{
 "cells": [
  {
   "cell_type": "markdown",
   "metadata": {},
   "source": [
    "# Выбор региона для добычи нефти"
   ]
  },
  {
   "cell_type": "markdown",
   "metadata": {},
   "source": [
    "На основе имеющихся данных о месторождениях в трех регионах необходимо выбрать наиболее прибыльное место добычи, с максимально возможным риском убытков.\n",
    "\n",
    "Предоставлено 3 датасета, содержащие информацию о пробах нефти и запасах продуктов.  \n",
    "Шаги для выбора локации:\n",
    "\n",
    "- В избранном регионе ищут месторождения, для каждого определяют значения признаков;\n",
    "- Строят модель и оценивают объём запасов;\n",
    "- Выбирают месторождения с самым высокими оценками значений. Количество месторождений зависит от бюджета компании и стоимости разработки одной скважины;\n",
    "- Прибыль равна суммарной прибыли отобранных месторождений.\n",
    "\n",
    "Оптимальный регион выбирается с помощью bootstrap-а."
   ]
  },
  {
   "cell_type": "markdown",
   "metadata": {},
   "source": [
    "## Загрузка и подготовка данных"
   ]
  },
  {
   "cell_type": "markdown",
   "metadata": {},
   "source": [
    "### Импорт библиотек"
   ]
  },
  {
   "cell_type": "code",
   "execution_count": 1,
   "metadata": {},
   "outputs": [],
   "source": [
    "import pandas as pd\n",
    "import numpy as np\n",
    "import matplotlib.pyplot as plt\n",
    "import seaborn as sns\n",
    "\n",
    "from sklearn.model_selection import train_test_split\n",
    "from sklearn.linear_model import LinearRegression\n",
    "from sklearn.metrics import mean_squared_error\n",
    "\n",
    "sns.set_color_codes('muted')\n",
    "sns.set_style('ticks', {'axes.grid': 'True'})\n",
    "mc = 'dodgerblue'\n",
    "pd.options.mode.chained_assignment = None"
   ]
  },
  {
   "cell_type": "markdown",
   "metadata": {},
   "source": [
    "Значение seed для параметра random_state:"
   ]
  },
  {
   "cell_type": "code",
   "execution_count": 2,
   "metadata": {},
   "outputs": [],
   "source": [
    "SEED = 42"
   ]
  },
  {
   "cell_type": "markdown",
   "metadata": {},
   "source": [
    "### Изучение общей информации о регионах:"
   ]
  },
  {
   "cell_type": "markdown",
   "metadata": {},
   "source": [
    "Информация о регионах предоставлена в виде трех датасетов:"
   ]
  },
  {
   "cell_type": "code",
   "execution_count": 3,
   "metadata": {},
   "outputs": [],
   "source": [
    "df_1 = pd.read_csv('/datasets/geo_data_0.csv')\n",
    "df_2 = pd.read_csv('/datasets/geo_data_1.csv')\n",
    "df_3 = pd.read_csv('/datasets/geo_data_2.csv')"
   ]
  },
  {
   "cell_type": "code",
   "execution_count": 4,
   "metadata": {},
   "outputs": [],
   "source": [
    "datas = {\n",
    "    'df_1':df_1,\n",
    "    'df_2':df_2,\n",
    "    'df_3':df_1\n",
    "}\n",
    "\n",
    "datas_descr = {\n",
    "    'df_1':'Регион добычи №1',\n",
    "    'df_2':'Регион добычи №2',\n",
    "    'df_3':'Регион добычи №3'\n",
    "}\n",
    "\n",
    "columns = list(df_1.columns)\n",
    "\n",
    "cols_descr = {\n",
    "    'f0':'Синтетический признак f0',\n",
    "    'f1':'Синтетический признак f1',\n",
    "    'f2':'Синтетический признак f2',\n",
    "    'product':'Объем запасов, тыс. баррелей'\n",
    "}"
   ]
  },
  {
   "cell_type": "markdown",
   "metadata": {},
   "source": [
    "Выведем датасеты и посмотрим, что они содержат:"
   ]
  },
  {
   "cell_type": "code",
   "execution_count": 5,
   "metadata": {},
   "outputs": [
    {
     "name": "stdout",
     "output_type": "stream",
     "text": [
      "Регион добычи №1\n"
     ]
    },
    {
     "data": {
      "text/html": [
       "<div>\n",
       "<style scoped>\n",
       "    .dataframe tbody tr th:only-of-type {\n",
       "        vertical-align: middle;\n",
       "    }\n",
       "\n",
       "    .dataframe tbody tr th {\n",
       "        vertical-align: top;\n",
       "    }\n",
       "\n",
       "    .dataframe thead th {\n",
       "        text-align: right;\n",
       "    }\n",
       "</style>\n",
       "<table border=\"1\" class=\"dataframe\">\n",
       "  <thead>\n",
       "    <tr style=\"text-align: right;\">\n",
       "      <th></th>\n",
       "      <th>id</th>\n",
       "      <th>f0</th>\n",
       "      <th>f1</th>\n",
       "      <th>f2</th>\n",
       "      <th>product</th>\n",
       "    </tr>\n",
       "  </thead>\n",
       "  <tbody>\n",
       "    <tr>\n",
       "      <th>0</th>\n",
       "      <td>txEyH</td>\n",
       "      <td>0.705745</td>\n",
       "      <td>-0.497823</td>\n",
       "      <td>1.221170</td>\n",
       "      <td>105.280062</td>\n",
       "    </tr>\n",
       "    <tr>\n",
       "      <th>1</th>\n",
       "      <td>2acmU</td>\n",
       "      <td>1.334711</td>\n",
       "      <td>-0.340164</td>\n",
       "      <td>4.365080</td>\n",
       "      <td>73.037750</td>\n",
       "    </tr>\n",
       "    <tr>\n",
       "      <th>2</th>\n",
       "      <td>409Wp</td>\n",
       "      <td>1.022732</td>\n",
       "      <td>0.151990</td>\n",
       "      <td>1.419926</td>\n",
       "      <td>85.265647</td>\n",
       "    </tr>\n",
       "    <tr>\n",
       "      <th>3</th>\n",
       "      <td>iJLyR</td>\n",
       "      <td>-0.032172</td>\n",
       "      <td>0.139033</td>\n",
       "      <td>2.978566</td>\n",
       "      <td>168.620776</td>\n",
       "    </tr>\n",
       "    <tr>\n",
       "      <th>4</th>\n",
       "      <td>Xdl7t</td>\n",
       "      <td>1.988431</td>\n",
       "      <td>0.155413</td>\n",
       "      <td>4.751769</td>\n",
       "      <td>154.036647</td>\n",
       "    </tr>\n",
       "  </tbody>\n",
       "</table>\n",
       "</div>"
      ],
      "text/plain": [
       "      id        f0        f1        f2     product\n",
       "0  txEyH  0.705745 -0.497823  1.221170  105.280062\n",
       "1  2acmU  1.334711 -0.340164  4.365080   73.037750\n",
       "2  409Wp  1.022732  0.151990  1.419926   85.265647\n",
       "3  iJLyR -0.032172  0.139033  2.978566  168.620776\n",
       "4  Xdl7t  1.988431  0.155413  4.751769  154.036647"
      ]
     },
     "metadata": {},
     "output_type": "display_data"
    },
    {
     "name": "stdout",
     "output_type": "stream",
     "text": [
      "Регион добычи №2\n"
     ]
    },
    {
     "data": {
      "text/html": [
       "<div>\n",
       "<style scoped>\n",
       "    .dataframe tbody tr th:only-of-type {\n",
       "        vertical-align: middle;\n",
       "    }\n",
       "\n",
       "    .dataframe tbody tr th {\n",
       "        vertical-align: top;\n",
       "    }\n",
       "\n",
       "    .dataframe thead th {\n",
       "        text-align: right;\n",
       "    }\n",
       "</style>\n",
       "<table border=\"1\" class=\"dataframe\">\n",
       "  <thead>\n",
       "    <tr style=\"text-align: right;\">\n",
       "      <th></th>\n",
       "      <th>id</th>\n",
       "      <th>f0</th>\n",
       "      <th>f1</th>\n",
       "      <th>f2</th>\n",
       "      <th>product</th>\n",
       "    </tr>\n",
       "  </thead>\n",
       "  <tbody>\n",
       "    <tr>\n",
       "      <th>0</th>\n",
       "      <td>kBEdx</td>\n",
       "      <td>-15.001348</td>\n",
       "      <td>-8.276000</td>\n",
       "      <td>-0.005876</td>\n",
       "      <td>3.179103</td>\n",
       "    </tr>\n",
       "    <tr>\n",
       "      <th>1</th>\n",
       "      <td>62mP7</td>\n",
       "      <td>14.272088</td>\n",
       "      <td>-3.475083</td>\n",
       "      <td>0.999183</td>\n",
       "      <td>26.953261</td>\n",
       "    </tr>\n",
       "    <tr>\n",
       "      <th>2</th>\n",
       "      <td>vyE1P</td>\n",
       "      <td>6.263187</td>\n",
       "      <td>-5.948386</td>\n",
       "      <td>5.001160</td>\n",
       "      <td>134.766305</td>\n",
       "    </tr>\n",
       "    <tr>\n",
       "      <th>3</th>\n",
       "      <td>KcrkZ</td>\n",
       "      <td>-13.081196</td>\n",
       "      <td>-11.506057</td>\n",
       "      <td>4.999415</td>\n",
       "      <td>137.945408</td>\n",
       "    </tr>\n",
       "    <tr>\n",
       "      <th>4</th>\n",
       "      <td>AHL4O</td>\n",
       "      <td>12.702195</td>\n",
       "      <td>-8.147433</td>\n",
       "      <td>5.004363</td>\n",
       "      <td>134.766305</td>\n",
       "    </tr>\n",
       "  </tbody>\n",
       "</table>\n",
       "</div>"
      ],
      "text/plain": [
       "      id         f0         f1        f2     product\n",
       "0  kBEdx -15.001348  -8.276000 -0.005876    3.179103\n",
       "1  62mP7  14.272088  -3.475083  0.999183   26.953261\n",
       "2  vyE1P   6.263187  -5.948386  5.001160  134.766305\n",
       "3  KcrkZ -13.081196 -11.506057  4.999415  137.945408\n",
       "4  AHL4O  12.702195  -8.147433  5.004363  134.766305"
      ]
     },
     "metadata": {},
     "output_type": "display_data"
    },
    {
     "name": "stdout",
     "output_type": "stream",
     "text": [
      "Регион добычи №3\n"
     ]
    },
    {
     "data": {
      "text/html": [
       "<div>\n",
       "<style scoped>\n",
       "    .dataframe tbody tr th:only-of-type {\n",
       "        vertical-align: middle;\n",
       "    }\n",
       "\n",
       "    .dataframe tbody tr th {\n",
       "        vertical-align: top;\n",
       "    }\n",
       "\n",
       "    .dataframe thead th {\n",
       "        text-align: right;\n",
       "    }\n",
       "</style>\n",
       "<table border=\"1\" class=\"dataframe\">\n",
       "  <thead>\n",
       "    <tr style=\"text-align: right;\">\n",
       "      <th></th>\n",
       "      <th>id</th>\n",
       "      <th>f0</th>\n",
       "      <th>f1</th>\n",
       "      <th>f2</th>\n",
       "      <th>product</th>\n",
       "    </tr>\n",
       "  </thead>\n",
       "  <tbody>\n",
       "    <tr>\n",
       "      <th>0</th>\n",
       "      <td>txEyH</td>\n",
       "      <td>0.705745</td>\n",
       "      <td>-0.497823</td>\n",
       "      <td>1.221170</td>\n",
       "      <td>105.280062</td>\n",
       "    </tr>\n",
       "    <tr>\n",
       "      <th>1</th>\n",
       "      <td>2acmU</td>\n",
       "      <td>1.334711</td>\n",
       "      <td>-0.340164</td>\n",
       "      <td>4.365080</td>\n",
       "      <td>73.037750</td>\n",
       "    </tr>\n",
       "    <tr>\n",
       "      <th>2</th>\n",
       "      <td>409Wp</td>\n",
       "      <td>1.022732</td>\n",
       "      <td>0.151990</td>\n",
       "      <td>1.419926</td>\n",
       "      <td>85.265647</td>\n",
       "    </tr>\n",
       "    <tr>\n",
       "      <th>3</th>\n",
       "      <td>iJLyR</td>\n",
       "      <td>-0.032172</td>\n",
       "      <td>0.139033</td>\n",
       "      <td>2.978566</td>\n",
       "      <td>168.620776</td>\n",
       "    </tr>\n",
       "    <tr>\n",
       "      <th>4</th>\n",
       "      <td>Xdl7t</td>\n",
       "      <td>1.988431</td>\n",
       "      <td>0.155413</td>\n",
       "      <td>4.751769</td>\n",
       "      <td>154.036647</td>\n",
       "    </tr>\n",
       "  </tbody>\n",
       "</table>\n",
       "</div>"
      ],
      "text/plain": [
       "      id        f0        f1        f2     product\n",
       "0  txEyH  0.705745 -0.497823  1.221170  105.280062\n",
       "1  2acmU  1.334711 -0.340164  4.365080   73.037750\n",
       "2  409Wp  1.022732  0.151990  1.419926   85.265647\n",
       "3  iJLyR -0.032172  0.139033  2.978566  168.620776\n",
       "4  Xdl7t  1.988431  0.155413  4.751769  154.036647"
      ]
     },
     "metadata": {},
     "output_type": "display_data"
    }
   ],
   "source": [
    "for df in datas.items():\n",
    "    print(datas_descr[df[0]])\n",
    "    display(df[1].head())"
   ]
  },
  {
   "cell_type": "markdown",
   "metadata": {},
   "source": [
    "Всего в датафреймах 5 признаков: id, f0, f1,f2, product и по 100 000 строк в каждом.\n",
    "\n",
    "Данные содержат следующую информацию:\n",
    "* id — уникальный идентификатор скважины;\n",
    "* f0, f1, f2 — три синтетических признака точек;\n",
    "* product — объём запасов в скважине (тыс. баррелей).\n",
    "\n",
    "product - целевой признак, который представлен непрерывной переменной."
   ]
  },
  {
   "cell_type": "code",
   "execution_count": 6,
   "metadata": {},
   "outputs": [
    {
     "name": "stdout",
     "output_type": "stream",
     "text": [
      "Регион добычи №1\n",
      "Количество полных дубликатов: 0\n",
      "_____________________________________\n",
      "<class 'pandas.core.frame.DataFrame'>\n",
      "RangeIndex: 100000 entries, 0 to 99999\n",
      "Data columns (total 5 columns):\n",
      " #   Column   Non-Null Count   Dtype  \n",
      "---  ------   --------------   -----  \n",
      " 0   id       100000 non-null  object \n",
      " 1   f0       100000 non-null  float64\n",
      " 2   f1       100000 non-null  float64\n",
      " 3   f2       100000 non-null  float64\n",
      " 4   product  100000 non-null  float64\n",
      "dtypes: float64(4), object(1)\n",
      "memory usage: 3.8+ MB\n"
     ]
    },
    {
     "data": {
      "text/plain": [
       "None"
      ]
     },
     "metadata": {},
     "output_type": "display_data"
    },
    {
     "name": "stdout",
     "output_type": "stream",
     "text": [
      "Регион добычи №2\n",
      "Количество полных дубликатов: 0\n",
      "_____________________________________\n",
      "<class 'pandas.core.frame.DataFrame'>\n",
      "RangeIndex: 100000 entries, 0 to 99999\n",
      "Data columns (total 5 columns):\n",
      " #   Column   Non-Null Count   Dtype  \n",
      "---  ------   --------------   -----  \n",
      " 0   id       100000 non-null  object \n",
      " 1   f0       100000 non-null  float64\n",
      " 2   f1       100000 non-null  float64\n",
      " 3   f2       100000 non-null  float64\n",
      " 4   product  100000 non-null  float64\n",
      "dtypes: float64(4), object(1)\n",
      "memory usage: 3.8+ MB\n"
     ]
    },
    {
     "data": {
      "text/plain": [
       "None"
      ]
     },
     "metadata": {},
     "output_type": "display_data"
    },
    {
     "name": "stdout",
     "output_type": "stream",
     "text": [
      "Регион добычи №3\n",
      "Количество полных дубликатов: 0\n",
      "_____________________________________\n",
      "<class 'pandas.core.frame.DataFrame'>\n",
      "RangeIndex: 100000 entries, 0 to 99999\n",
      "Data columns (total 5 columns):\n",
      " #   Column   Non-Null Count   Dtype  \n",
      "---  ------   --------------   -----  \n",
      " 0   id       100000 non-null  object \n",
      " 1   f0       100000 non-null  float64\n",
      " 2   f1       100000 non-null  float64\n",
      " 3   f2       100000 non-null  float64\n",
      " 4   product  100000 non-null  float64\n",
      "dtypes: float64(4), object(1)\n",
      "memory usage: 3.8+ MB\n"
     ]
    },
    {
     "data": {
      "text/plain": [
       "None"
      ]
     },
     "metadata": {},
     "output_type": "display_data"
    }
   ],
   "source": [
    "for df in datas.items():\n",
    "    print(datas_descr[df[0]])\n",
    "    print('Количество полных дубликатов:' ,df[1].duplicated().sum())\n",
    "    print('_'*37)\n",
    "    display(df[1].info())"
   ]
  },
  {
   "cell_type": "markdown",
   "metadata": {},
   "source": [
    "Во всех датафреймах одинаковое количество строк и столбцов, пропущенные значения отсутствуют. Сами данные имеют следующий тип:\n",
    "id - тип данных object\n",
    "f0, f1, f2, product - типы данных float\n",
    "\n",
    "* Признаки имеют корректный тип данных, обработка не требуется.\n",
    "* Пропущенных значений нет, обработка не требуется.\n",
    "* Полные дубликаты отсутствуют.\n",
    "\n",
    "Изучим основные стат. показатели и построим гистограммы:"
   ]
  },
  {
   "cell_type": "code",
   "execution_count": 7,
   "metadata": {},
   "outputs": [],
   "source": [
    "def draw_hist(key):\n",
    "    fig = plt.figure(figsize=(16,10))\n",
    "    fig.suptitle(f'{datas_descr[key]} гистограммы', fontsize=16)\n",
    "    \n",
    "    ax_1 = fig.add_subplot(2,3,1)\n",
    "    sns.histplot(x='f0', data=datas[key], kde=True, color='dodgerblue', bins=100)\n",
    "    ax_1.set(ylabel='Количество наблюдений', xlabel=cols_descr['f0'])\n",
    "    \n",
    "    ax_2 = fig.add_subplot(2,3,2)\n",
    "    sns.histplot(x='f1', data=datas[key], kde=True, color='dodgerblue', bins=100)\n",
    "    ax_2.set(xlabel=cols_descr['f1'], ylabel='')\n",
    "    \n",
    "    ax_3 = fig.add_subplot(2,3,3)\n",
    "    sns.histplot(x='f2', data=datas[key], kde=True, color='dodgerblue', bins=100)\n",
    "    ax_3.set(xlabel=cols_descr['f2'], ylabel='')\n",
    "    \n",
    "    ax_4 = fig.add_subplot(2,1,2)\n",
    "    sns.histplot(x='product', data=datas[key], kde=True, color='dodgerblue', bins=100)\n",
    "    ax_4.set(ylabel='Количество наблюдений', xlabel=cols_descr['product'])"
   ]
  },
  {
   "cell_type": "code",
   "execution_count": 8,
   "metadata": {},
   "outputs": [
    {
     "data": {
      "text/html": [
       "<div>\n",
       "<style scoped>\n",
       "    .dataframe tbody tr th:only-of-type {\n",
       "        vertical-align: middle;\n",
       "    }\n",
       "\n",
       "    .dataframe tbody tr th {\n",
       "        vertical-align: top;\n",
       "    }\n",
       "\n",
       "    .dataframe thead th {\n",
       "        text-align: right;\n",
       "    }\n",
       "</style>\n",
       "<table border=\"1\" class=\"dataframe\">\n",
       "  <thead>\n",
       "    <tr style=\"text-align: right;\">\n",
       "      <th></th>\n",
       "      <th>f0</th>\n",
       "      <th>f1</th>\n",
       "      <th>f2</th>\n",
       "      <th>product</th>\n",
       "    </tr>\n",
       "  </thead>\n",
       "  <tbody>\n",
       "    <tr>\n",
       "      <th>count</th>\n",
       "      <td>100000.000000</td>\n",
       "      <td>100000.000000</td>\n",
       "      <td>100000.000000</td>\n",
       "      <td>100000.000000</td>\n",
       "    </tr>\n",
       "    <tr>\n",
       "      <th>mean</th>\n",
       "      <td>0.500419</td>\n",
       "      <td>0.250143</td>\n",
       "      <td>2.502647</td>\n",
       "      <td>92.500000</td>\n",
       "    </tr>\n",
       "    <tr>\n",
       "      <th>std</th>\n",
       "      <td>0.871832</td>\n",
       "      <td>0.504433</td>\n",
       "      <td>3.248248</td>\n",
       "      <td>44.288691</td>\n",
       "    </tr>\n",
       "    <tr>\n",
       "      <th>min</th>\n",
       "      <td>-1.408605</td>\n",
       "      <td>-0.848218</td>\n",
       "      <td>-12.088328</td>\n",
       "      <td>0.000000</td>\n",
       "    </tr>\n",
       "    <tr>\n",
       "      <th>25%</th>\n",
       "      <td>-0.072580</td>\n",
       "      <td>-0.200881</td>\n",
       "      <td>0.287748</td>\n",
       "      <td>56.497507</td>\n",
       "    </tr>\n",
       "    <tr>\n",
       "      <th>50%</th>\n",
       "      <td>0.502360</td>\n",
       "      <td>0.250252</td>\n",
       "      <td>2.515969</td>\n",
       "      <td>91.849972</td>\n",
       "    </tr>\n",
       "    <tr>\n",
       "      <th>75%</th>\n",
       "      <td>1.073581</td>\n",
       "      <td>0.700646</td>\n",
       "      <td>4.715088</td>\n",
       "      <td>128.564089</td>\n",
       "    </tr>\n",
       "    <tr>\n",
       "      <th>max</th>\n",
       "      <td>2.362331</td>\n",
       "      <td>1.343769</td>\n",
       "      <td>16.003790</td>\n",
       "      <td>185.364347</td>\n",
       "    </tr>\n",
       "  </tbody>\n",
       "</table>\n",
       "</div>"
      ],
      "text/plain": [
       "                  f0             f1             f2        product\n",
       "count  100000.000000  100000.000000  100000.000000  100000.000000\n",
       "mean        0.500419       0.250143       2.502647      92.500000\n",
       "std         0.871832       0.504433       3.248248      44.288691\n",
       "min        -1.408605      -0.848218     -12.088328       0.000000\n",
       "25%        -0.072580      -0.200881       0.287748      56.497507\n",
       "50%         0.502360       0.250252       2.515969      91.849972\n",
       "75%         1.073581       0.700646       4.715088     128.564089\n",
       "max         2.362331       1.343769      16.003790     185.364347"
      ]
     },
     "metadata": {},
     "output_type": "display_data"
    },
    {
     "data": {
      "image/png": "[encoded data removed]",
      "text/plain": [
       "<Figure size 1152x720 with 4 Axes>"
      ]
     },
     "metadata": {},
     "output_type": "display_data"
    }
   ],
   "source": [
    "display(df_1.describe())\n",
    "draw_hist('df_1')"
   ]
  },
  {
   "cell_type": "markdown",
   "metadata": {},
   "source": [
    "Регион 1:  \n",
    "* Распределение всех признаков непрерывное. Все признаки синтетические, из них f0, f1, product имеют необычное распределение с несколькими модами. Признак f2 имеет нормальное распредление.\n",
    "* Среднее количество продукта в регионе: 92.5 тыс. баррелей\n",
    "* Минимальное и максимальное количество продукта в регионе: 0 и 185.36 тыс. барреллей соответственно"
   ]
  },
  {
   "cell_type": "code",
   "execution_count": 9,
   "metadata": {},
   "outputs": [
    {
     "data": {
      "text/html": [
       "<div>\n",
       "<style scoped>\n",
       "    .dataframe tbody tr th:only-of-type {\n",
       "        vertical-align: middle;\n",
       "    }\n",
       "\n",
       "    .dataframe tbody tr th {\n",
       "        vertical-align: top;\n",
       "    }\n",
       "\n",
       "    .dataframe thead th {\n",
       "        text-align: right;\n",
       "    }\n",
       "</style>\n",
       "<table border=\"1\" class=\"dataframe\">\n",
       "  <thead>\n",
       "    <tr style=\"text-align: right;\">\n",
       "      <th></th>\n",
       "      <th>f0</th>\n",
       "      <th>f1</th>\n",
       "      <th>f2</th>\n",
       "      <th>product</th>\n",
       "    </tr>\n",
       "  </thead>\n",
       "  <tbody>\n",
       "    <tr>\n",
       "      <th>count</th>\n",
       "      <td>100000.000000</td>\n",
       "      <td>100000.000000</td>\n",
       "      <td>100000.000000</td>\n",
       "      <td>100000.000000</td>\n",
       "    </tr>\n",
       "    <tr>\n",
       "      <th>mean</th>\n",
       "      <td>1.141296</td>\n",
       "      <td>-4.796579</td>\n",
       "      <td>2.494541</td>\n",
       "      <td>68.825000</td>\n",
       "    </tr>\n",
       "    <tr>\n",
       "      <th>std</th>\n",
       "      <td>8.965932</td>\n",
       "      <td>5.119872</td>\n",
       "      <td>1.703572</td>\n",
       "      <td>45.944423</td>\n",
       "    </tr>\n",
       "    <tr>\n",
       "      <th>min</th>\n",
       "      <td>-31.609576</td>\n",
       "      <td>-26.358598</td>\n",
       "      <td>-0.018144</td>\n",
       "      <td>0.000000</td>\n",
       "    </tr>\n",
       "    <tr>\n",
       "      <th>25%</th>\n",
       "      <td>-6.298551</td>\n",
       "      <td>-8.267985</td>\n",
       "      <td>1.000021</td>\n",
       "      <td>26.953261</td>\n",
       "    </tr>\n",
       "    <tr>\n",
       "      <th>50%</th>\n",
       "      <td>1.153055</td>\n",
       "      <td>-4.813172</td>\n",
       "      <td>2.011479</td>\n",
       "      <td>57.085625</td>\n",
       "    </tr>\n",
       "    <tr>\n",
       "      <th>75%</th>\n",
       "      <td>8.621015</td>\n",
       "      <td>-1.332816</td>\n",
       "      <td>3.999904</td>\n",
       "      <td>107.813044</td>\n",
       "    </tr>\n",
       "    <tr>\n",
       "      <th>max</th>\n",
       "      <td>29.421755</td>\n",
       "      <td>18.734063</td>\n",
       "      <td>5.019721</td>\n",
       "      <td>137.945408</td>\n",
       "    </tr>\n",
       "  </tbody>\n",
       "</table>\n",
       "</div>"
      ],
      "text/plain": [
       "                  f0             f1             f2        product\n",
       "count  100000.000000  100000.000000  100000.000000  100000.000000\n",
       "mean        1.141296      -4.796579       2.494541      68.825000\n",
       "std         8.965932       5.119872       1.703572      45.944423\n",
       "min       -31.609576     -26.358598      -0.018144       0.000000\n",
       "25%        -6.298551      -8.267985       1.000021      26.953261\n",
       "50%         1.153055      -4.813172       2.011479      57.085625\n",
       "75%         8.621015      -1.332816       3.999904     107.813044\n",
       "max        29.421755      18.734063       5.019721     137.945408"
      ]
     },
     "metadata": {},
     "output_type": "display_data"
    },
    {
     "data": {
      "image/png": "[encoded data removed]",
      "text/plain": [
       "<Figure size 1152x720 with 4 Axes>"
      ]
     },
     "metadata": {},
     "output_type": "display_data"
    }
   ],
   "source": [
    "display(df_2.describe())\n",
    "draw_hist('df_2')"
   ]
  },
  {
   "cell_type": "markdown",
   "metadata": {},
   "source": [
    "Регион 2:  \n",
    "* f0 распределение практически бимодальное, f1 - нормальное распределение, f2 и product - дискретное распределение\n",
    "* Среднее количество продукта в регионе: 68.82 тыс. баррелей\n",
    "* Минимальное и максимальное количество продукта в регионе: 0 и 137.9 тыс. барреллей соответственно"
   ]
  },
  {
   "cell_type": "code",
   "execution_count": 10,
   "metadata": {},
   "outputs": [
    {
     "data": {
      "text/html": [
       "<div>\n",
       "<style scoped>\n",
       "    .dataframe tbody tr th:only-of-type {\n",
       "        vertical-align: middle;\n",
       "    }\n",
       "\n",
       "    .dataframe tbody tr th {\n",
       "        vertical-align: top;\n",
       "    }\n",
       "\n",
       "    .dataframe thead th {\n",
       "        text-align: right;\n",
       "    }\n",
       "</style>\n",
       "<table border=\"1\" class=\"dataframe\">\n",
       "  <thead>\n",
       "    <tr style=\"text-align: right;\">\n",
       "      <th></th>\n",
       "      <th>f0</th>\n",
       "      <th>f1</th>\n",
       "      <th>f2</th>\n",
       "      <th>product</th>\n",
       "    </tr>\n",
       "  </thead>\n",
       "  <tbody>\n",
       "    <tr>\n",
       "      <th>count</th>\n",
       "      <td>100000.000000</td>\n",
       "      <td>100000.000000</td>\n",
       "      <td>100000.000000</td>\n",
       "      <td>100000.000000</td>\n",
       "    </tr>\n",
       "    <tr>\n",
       "      <th>mean</th>\n",
       "      <td>0.002023</td>\n",
       "      <td>-0.002081</td>\n",
       "      <td>2.495128</td>\n",
       "      <td>95.000000</td>\n",
       "    </tr>\n",
       "    <tr>\n",
       "      <th>std</th>\n",
       "      <td>1.732045</td>\n",
       "      <td>1.730417</td>\n",
       "      <td>3.473445</td>\n",
       "      <td>44.749921</td>\n",
       "    </tr>\n",
       "    <tr>\n",
       "      <th>min</th>\n",
       "      <td>-8.760004</td>\n",
       "      <td>-7.084020</td>\n",
       "      <td>-11.970335</td>\n",
       "      <td>0.000000</td>\n",
       "    </tr>\n",
       "    <tr>\n",
       "      <th>25%</th>\n",
       "      <td>-1.162288</td>\n",
       "      <td>-1.174820</td>\n",
       "      <td>0.130359</td>\n",
       "      <td>59.450441</td>\n",
       "    </tr>\n",
       "    <tr>\n",
       "      <th>50%</th>\n",
       "      <td>0.009424</td>\n",
       "      <td>-0.009482</td>\n",
       "      <td>2.484236</td>\n",
       "      <td>94.925613</td>\n",
       "    </tr>\n",
       "    <tr>\n",
       "      <th>75%</th>\n",
       "      <td>1.158535</td>\n",
       "      <td>1.163678</td>\n",
       "      <td>4.858794</td>\n",
       "      <td>130.595027</td>\n",
       "    </tr>\n",
       "    <tr>\n",
       "      <th>max</th>\n",
       "      <td>7.238262</td>\n",
       "      <td>7.844801</td>\n",
       "      <td>16.739402</td>\n",
       "      <td>190.029838</td>\n",
       "    </tr>\n",
       "  </tbody>\n",
       "</table>\n",
       "</div>"
      ],
      "text/plain": [
       "                  f0             f1             f2        product\n",
       "count  100000.000000  100000.000000  100000.000000  100000.000000\n",
       "mean        0.002023      -0.002081       2.495128      95.000000\n",
       "std         1.732045       1.730417       3.473445      44.749921\n",
       "min        -8.760004      -7.084020     -11.970335       0.000000\n",
       "25%        -1.162288      -1.174820       0.130359      59.450441\n",
       "50%         0.009424      -0.009482       2.484236      94.925613\n",
       "75%         1.158535       1.163678       4.858794     130.595027\n",
       "max         7.238262       7.844801      16.739402     190.029838"
      ]
     },
     "metadata": {},
     "output_type": "display_data"
    },
    {
     "data": {
      "image/png": "[encoded data removed]",
      "text/plain": [
       "<Figure size 1152x720 with 4 Axes>"
      ]
     },
     "metadata": {},
     "output_type": "display_data"
    }
   ],
   "source": [
    "display(df_3.describe())\n",
    "draw_hist('df_3')"
   ]
  },
  {
   "cell_type": "markdown",
   "metadata": {},
   "source": [
    "Регион 3:  \n",
    "* Регион очень похож на первый регион, выводы так же похожи\n",
    "* Распределение всех признаков непрерывное. Все признаки синтетические, из них f0, f1, product имеют необычное распределение с несколькими модами. Признак f2 имеет нормальное распредление.\n",
    "* Среднее количество продукта в регионе: 95 тыс. баррелей\n",
    "* Минимальное и максимальное количество продукта в регионе: 0 и 190 тыс. барреллей соответственно"
   ]
  },
  {
   "cell_type": "markdown",
   "metadata": {},
   "source": [
    "Проверим зависимости в данных:"
   ]
  },
  {
   "cell_type": "code",
   "execution_count": 11,
   "metadata": {},
   "outputs": [
    {
     "data": {
      "image/png": "[encoded data removed]",
      "text/plain": [
       "<Figure size 1152x288 with 6 Axes>"
      ]
     },
     "metadata": {},
     "output_type": "display_data"
    }
   ],
   "source": [
    "fig, axes = plt.subplots(1,3, figsize=(16,4))\n",
    "for i, df in enumerate(datas.items()):\n",
    "    plt.subplot(1,3,i+1)\n",
    "    sns.heatmap(df[1].corr(), xticklabels=df[1].corr().columns, \n",
    "            yticklabels=df[1].corr().columns, cmap='Blues', annot=True)\n",
    "    plt.title(f'Матрица корреляции {df[0]}')"
   ]
  },
  {
   "cell_type": "markdown",
   "metadata": {},
   "source": [
    "В датасетах 1 и 3 присутствует средняя отрицательная корреляция между признаками f1 и f0, а так же средняя положительная корреляция между признаком f2 и целевым признаком product.\n",
    "\n",
    "В датасете 2 линейная зависимость признака f2 и product. Ранее мы строили гистограммы для этих признаков, действительно распределения очень сильно похожи.\n",
    "\n",
    "Признаки синтетические и важны для исследования и построения модели, удалять их, несмотря на сильную корреляцию, не будем."
   ]
  },
  {
   "cell_type": "markdown",
   "metadata": {},
   "source": [
    "### Вывод по этапу подготовки данных"
   ]
  },
  {
   "cell_type": "markdown",
   "metadata": {},
   "source": [
    "Для расчета возможной прибыли и построения плана разработки месторождений нам предоставлено 3 датасета, содержащие информацию о скважинах в трех регионах. Каждый из датасетов содержит 100000 строк и 5 столбцов с различной информацией:\n",
    "* id — уникальный идентификатор скважины;\n",
    "* f0, f1, f2 — три синтетических признака точек;\n",
    "* product — объём запасов в скважине (тыс. баррелей).\n",
    "\n",
    "При этом самые большие средние запасы нефти имеет регион 3, после него идет регион 1: 95 и 92 тыс. баррелей соответственно. Меньше всего запасы во 2 регионе: 68.8 тыс. баррелей.\n",
    "\n",
    "Сами признаки в датасетах имеют разные распределения, но схожие средние значения. Заметна очень сильная корреляция признака f2 и product региона 2. Остальные признаки либо не имеют корреляции с другими признаками/целевым признаком, либо имеют незначительную/умеренную корреляцию."
   ]
  },
  {
   "cell_type": "markdown",
   "metadata": {},
   "source": [
    "## Обучение и проверка модели"
   ]
  },
  {
   "cell_type": "markdown",
   "metadata": {},
   "source": [
    "### Обучение и подготовка модели"
   ]
  },
  {
   "cell_type": "markdown",
   "metadata": {},
   "source": [
    "Подготовим и обучим модель линейной регрессии, получим предсказания и посчитаем метрики. Алгоритм такой:\n",
    "1. Разобъем данные на признаки и целевую переменную, удалив лишнее\n",
    "2. Разобъем признаки и целевую переменную на обучающую и валидационную выборку в отношении 3:1\n",
    "3. Обучим модель, получим предсказания\n",
    "4. Рассчитаем метрики\n",
    "\n",
    "Реализуем для удобства все эти шаги в одной функции:"
   ]
  },
  {
   "cell_type": "code",
   "execution_count": 12,
   "metadata": {},
   "outputs": [],
   "source": [
    "def train_linear_regression(df):\n",
    "    X = df.drop(['id', 'product'], axis = 1)\n",
    "    y = df['product']\n",
    "    \n",
    "    X_train, X_valid, y_train, y_valid = train_test_split(\n",
    "                                    X, y, test_size=0.25, random_state=SEED)\n",
    "    \n",
    "    model = LinearRegression(n_jobs=-1)\n",
    "    model.fit(X_train, y_train)\n",
    "    \n",
    "    pred = model.predict(X_valid)\n",
    "    \n",
    "    mse = mean_squared_error(y_valid, pred)\n",
    "    rmse = mse ** 0.5\n",
    "    \n",
    "    pred = pd.Series(pred, X_valid.index)\n",
    "    \n",
    "    return pred, y_valid, mse, rmse, y_valid.mean(), pred.mean()"
   ]
  },
  {
   "cell_type": "markdown",
   "metadata": {},
   "source": [
    "Результаты:"
   ]
  },
  {
   "cell_type": "code",
   "execution_count": 13,
   "metadata": {},
   "outputs": [],
   "source": [
    "pred_product_reg_1, valid_reg_1, *scores_reg_1 = train_linear_regression(df_1)\n",
    "pred_product_reg_2, valid_reg_2, *scores_reg_2 = train_linear_regression(df_2)\n",
    "pred_product_reg_3, valid_reg_3, *scores_reg_3 = train_linear_regression(df_3)"
   ]
  },
  {
   "cell_type": "markdown",
   "metadata": {},
   "source": [
    "Списки с предсказаниями и валидационной выборкой, для удобства:"
   ]
  },
  {
   "cell_type": "code",
   "execution_count": 14,
   "metadata": {},
   "outputs": [],
   "source": [
    "pred_products = [pred_product_reg_1, pred_product_reg_2, pred_product_reg_3]\n",
    "valid_products = [valid_reg_1, valid_reg_2, valid_reg_3]"
   ]
  },
  {
   "cell_type": "markdown",
   "metadata": {},
   "source": [
    "Табличка с результатами:"
   ]
  },
  {
   "cell_type": "code",
   "execution_count": 15,
   "metadata": {},
   "outputs": [],
   "source": [
    "total_regions = pd.DataFrame(index=['region_1', 'region_2', 'region_3'],\n",
    "             columns=['MSE', 'RMSE', 'true_mean', 'predicted_mean'])"
   ]
  },
  {
   "cell_type": "code",
   "execution_count": 16,
   "metadata": {},
   "outputs": [],
   "source": [
    "total_regions.loc['region_1'] = scores_reg_1\n",
    "total_regions.loc['region_2'] = scores_reg_2\n",
    "total_regions.loc['region_3'] = scores_reg_3"
   ]
  },
  {
   "cell_type": "code",
   "execution_count": 17,
   "metadata": {},
   "outputs": [
    {
     "data": {
      "text/html": [
       "<div>\n",
       "<style scoped>\n",
       "    .dataframe tbody tr th:only-of-type {\n",
       "        vertical-align: middle;\n",
       "    }\n",
       "\n",
       "    .dataframe tbody tr th {\n",
       "        vertical-align: top;\n",
       "    }\n",
       "\n",
       "    .dataframe thead th {\n",
       "        text-align: right;\n",
       "    }\n",
       "</style>\n",
       "<table border=\"1\" class=\"dataframe\">\n",
       "  <thead>\n",
       "    <tr style=\"text-align: right;\">\n",
       "      <th></th>\n",
       "      <th>MSE</th>\n",
       "      <th>RMSE</th>\n",
       "      <th>true_mean</th>\n",
       "      <th>predicted_mean</th>\n",
       "    </tr>\n",
       "  </thead>\n",
       "  <tbody>\n",
       "    <tr>\n",
       "      <th>region_1</th>\n",
       "      <td>1425.56087</td>\n",
       "      <td>37.7566</td>\n",
       "      <td>92.325956</td>\n",
       "      <td>92.3988</td>\n",
       "    </tr>\n",
       "    <tr>\n",
       "      <th>region_2</th>\n",
       "      <td>0.792599</td>\n",
       "      <td>0.89028</td>\n",
       "      <td>68.725381</td>\n",
       "      <td>68.712878</td>\n",
       "    </tr>\n",
       "    <tr>\n",
       "      <th>region_3</th>\n",
       "      <td>1611.691064</td>\n",
       "      <td>40.145872</td>\n",
       "      <td>95.150999</td>\n",
       "      <td>94.771024</td>\n",
       "    </tr>\n",
       "  </tbody>\n",
       "</table>\n",
       "</div>"
      ],
      "text/plain": [
       "                  MSE       RMSE  true_mean predicted_mean\n",
       "region_1   1425.56087    37.7566  92.325956        92.3988\n",
       "region_2     0.792599    0.89028  68.725381      68.712878\n",
       "region_3  1611.691064  40.145872  95.150999      94.771024"
      ]
     },
     "execution_count": 17,
     "metadata": {},
     "output_type": "execute_result"
    }
   ],
   "source": [
    "total_regions"
   ]
  },
  {
   "cell_type": "code",
   "execution_count": 18,
   "metadata": {},
   "outputs": [
    {
     "data": {
      "image/png": "[encoded data removed]",
      "text/plain": [
       "<Figure size 1152x360 with 3 Axes>"
      ]
     },
     "metadata": {},
     "output_type": "display_data"
    }
   ],
   "source": [
    "plt.subplots(1,3,figsize=(16,5))\n",
    "for i, product in enumerate(zip(pred_products, valid_products)):\n",
    "    plt.subplot(1,3,i+1)\n",
    "    sns.histplot(product[0], color='dodgerblue', bins=25)\n",
    "    sns.histplot(product[1], color='r', alpha=0.5, bins=25)\n",
    "    plt.xlabel(cols_descr['product'])\n",
    "    plt.ylabel('Количество наблюдений')\n",
    "    plt.legend(['predicted','true'])"
   ]
  },
  {
   "cell_type": "markdown",
   "metadata": {},
   "source": [
    "### Вывод"
   ]
  },
  {
   "cell_type": "markdown",
   "metadata": {},
   "source": [
    "Мы обучили модель линейной регрессии для трех регионов, получили предсказания на валидационной выборке и вычислили метрики MSE, RMSE.  \n",
    "Результаты:"
   ]
  },
  {
   "cell_type": "code",
   "execution_count": 19,
   "metadata": {},
   "outputs": [
    {
     "data": {
      "text/html": [
       "<div>\n",
       "<style scoped>\n",
       "    .dataframe tbody tr th:only-of-type {\n",
       "        vertical-align: middle;\n",
       "    }\n",
       "\n",
       "    .dataframe tbody tr th {\n",
       "        vertical-align: top;\n",
       "    }\n",
       "\n",
       "    .dataframe thead th {\n",
       "        text-align: right;\n",
       "    }\n",
       "</style>\n",
       "<table border=\"1\" class=\"dataframe\">\n",
       "  <thead>\n",
       "    <tr style=\"text-align: right;\">\n",
       "      <th></th>\n",
       "      <th>MSE</th>\n",
       "      <th>RMSE</th>\n",
       "      <th>true_mean</th>\n",
       "      <th>predicted_mean</th>\n",
       "    </tr>\n",
       "  </thead>\n",
       "  <tbody>\n",
       "    <tr>\n",
       "      <th>region_1</th>\n",
       "      <td>1425.56087</td>\n",
       "      <td>37.7566</td>\n",
       "      <td>92.325956</td>\n",
       "      <td>92.3988</td>\n",
       "    </tr>\n",
       "    <tr>\n",
       "      <th>region_2</th>\n",
       "      <td>0.792599</td>\n",
       "      <td>0.89028</td>\n",
       "      <td>68.725381</td>\n",
       "      <td>68.712878</td>\n",
       "    </tr>\n",
       "    <tr>\n",
       "      <th>region_3</th>\n",
       "      <td>1611.691064</td>\n",
       "      <td>40.145872</td>\n",
       "      <td>95.150999</td>\n",
       "      <td>94.771024</td>\n",
       "    </tr>\n",
       "  </tbody>\n",
       "</table>\n",
       "</div>"
      ],
      "text/plain": [
       "                  MSE       RMSE  true_mean predicted_mean\n",
       "region_1   1425.56087    37.7566  92.325956        92.3988\n",
       "region_2     0.792599    0.89028  68.725381      68.712878\n",
       "region_3  1611.691064  40.145872  95.150999      94.771024"
      ]
     },
     "execution_count": 19,
     "metadata": {},
     "output_type": "execute_result"
    }
   ],
   "source": [
    "total_regions"
   ]
  },
  {
   "cell_type": "markdown",
   "metadata": {},
   "source": [
    "Лучше всего модель получилась для региона 2, ее MSE/RMSE практически равно нулю, она очень точно предсказывает значение продукта. Это объясняется тем, что между признаком обучающей выборки f2 и целевой переменной была линейная зависимость, а сами наблюдения в признаках дискретные, ошибиться модели тут очень сложно.\n",
    "\n",
    "Другая ситуация с регионами 1 и 3, RMSE = 37 и 40 соответственно, предсказания модели не совсем точные, но если взять результат предсказания в среднем, он практически совпадает с реальным значением."
   ]
  },
  {
   "cell_type": "markdown",
   "metadata": {},
   "source": [
    "## Подготовка к расчёту прибыли"
   ]
  },
  {
   "cell_type": "markdown",
   "metadata": {},
   "source": [
    "Зададим переменные для расчета прибыли:\n",
    "* Бюджет на разработку скважин в одном регионе: 10 млрд. руб.\n",
    "* Доход с каждой единицы продукта: 450 тыс. руб.\n",
    "\n",
    "По условию задания из исследуемых 500 месторождений отбирается 200 лучших, которые в дальнейшем будут осваиваться.\n",
    "* Количество исследуемых месторождений: 500 единиц\n",
    "* Количество лучших месторождений для освоения: 200 единиц"
   ]
  },
  {
   "cell_type": "code",
   "execution_count": 20,
   "metadata": {},
   "outputs": [],
   "source": [
    "BUDGET_TOTAL = 10**10\n",
    "INCOME_PER_BARILE = 450000\n",
    "N_FIELD = 500\n",
    "N_BEST_FIELD = 200"
   ]
  },
  {
   "cell_type": "markdown",
   "metadata": {},
   "source": [
    "Вычислим, какой бюджет предполагается на разработку одного месторождения, разделим общий бюджет на количество лучших месторождений."
   ]
  },
  {
   "cell_type": "code",
   "execution_count": 21,
   "metadata": {},
   "outputs": [
    {
     "data": {
      "text/plain": [
       "50000000.0"
      ]
     },
     "execution_count": 21,
     "metadata": {},
     "output_type": "execute_result"
    }
   ],
   "source": [
    "BUDGET_PER_FIELD = BUDGET_TOTAL / N_BEST_FIELD\n",
    "BUDGET_PER_FIELD"
   ]
  },
  {
   "cell_type": "markdown",
   "metadata": {},
   "source": [
    "Точка безубыточности месторождения определяется, как отношение бюджета на одно месторождение к предполагаемой прибыли с единицы продукта:"
   ]
  },
  {
   "cell_type": "code",
   "execution_count": 22,
   "metadata": {},
   "outputs": [
    {
     "data": {
      "text/plain": [
       "111.11111111111111"
      ]
     },
     "execution_count": 22,
     "metadata": {},
     "output_type": "execute_result"
    }
   ],
   "source": [
    "THRESHOLD = BUDGET_PER_FIELD / INCOME_PER_BARILE\n",
    "THRESHOLD"
   ]
  },
  {
   "cell_type": "markdown",
   "metadata": {},
   "source": [
    "Получается, что месторождение перестает быть убыточным только в том случае, если в нем содержится более 111 тыс. единиц продукта.\n",
    "\n",
    "Ранее мы вычислили средние значения в валидационной выборке, они были равны: 92, 68, 95 тыс. баррелей для каждого из регионов. Легко заметить, что в среднем в регионах не хватает нефти, необходимо дальнейшее исследование, получится ли выбрать наиболее рентабельные месторождения.\n",
    "\n",
    "Чтобы это выяснить проведем бутстреп данных, получим изначальную популяцию, рассчитаем прибыльность регионов и риски убытков."
   ]
  },
  {
   "cell_type": "markdown",
   "metadata": {},
   "source": [
    "## Расчёт прибыли и рисков "
   ]
  },
  {
   "cell_type": "markdown",
   "metadata": {},
   "source": [
    "Ранее мы упоминали, что по условию задания из исследуемых 500 месторождений отбирается 200 лучших, которые в дальнейшем будут осваиваться.\n",
    "* Количество исследуемых месторождений: 500 единиц\n",
    "* Количество лучших месторождений для освоения: 200 единиц\n",
    "\n",
    "Реализуем расчет прибыли с помощью бутстрепа, будем случайным образом выбирать 500 месторождений из предсказанных значений, затем из них отбирать 200 лучших (имеющих наибольшие запасы продукта) и рассчитывать прибыль для региона."
   ]
  },
  {
   "cell_type": "markdown",
   "metadata": {},
   "source": [
    "Глобальные переменные для дальнейших расчетов:\n",
    "1. Параметр state для аргумента random_state, позволит выполнить бутстреп без постоянного повторения одинакового результата\n",
    "2. Количество итераций бутстрепа\n",
    "3. Нижняя и верхняя граница доверительного результата для прибыли"
   ]
  },
  {
   "cell_type": "code",
   "execution_count": 23,
   "metadata": {},
   "outputs": [],
   "source": [
    "state = np.random.RandomState(SEED)\n",
    "BOOTSRAP_N = 1000\n",
    "q_lower = 0.025\n",
    "q_upper = 0.975"
   ]
  },
  {
   "cell_type": "markdown",
   "metadata": {},
   "source": [
    "Функции для облегчения рассчетов:\n",
    "1. income_per_region принимает на вход выборку, сортирует по количеству продукта, отбирает 200 лучших месторождений, суммирует все значения продукта, считает прибыль.\n",
    "2. bootstrap_income, принимает на вход выборку, бутстрапирует ее и с помощью функции income_per_region считает прибыль\n",
    "3. results_calculation - считает нижний, верхний квантиль и среднее по прибыли"
   ]
  },
  {
   "cell_type": "code",
   "execution_count": 24,
   "metadata": {},
   "outputs": [],
   "source": [
    "def income_per_region(pred, valid):\n",
    "    '''Функция рассчитывает прибыль в регионе. Возвращает значение прибыли'''\n",
    "    best_fields = (\n",
    "        pred\n",
    "        .sort_values(ascending=False)\n",
    "        .head(N_BEST_FIELD)\n",
    "    )\n",
    "    total_product_best_fields = valid[best_fields.index].sum()\n",
    "    \n",
    "    \n",
    "    income = (total_product_best_fields * INCOME_PER_BARILE) - BUDGET_TOTAL\n",
    "    return income\n",
    "\n",
    "def bootstrap_income(pred, valid):\n",
    "    '''Функция бутстрапирует переданную в нее выборку и на основе ее рассчитывает прибыль в регионе, а так же риск убытка\n",
    "       Возвращает Series со значением прибыли и значение риска убытка'''\n",
    "    incomes_lst = []\n",
    "    for i in range(BOOTSRAP_N):\n",
    "        subsample = pred.sample(n=N_FIELD, replace=True, random_state=state)\n",
    "        inc = income_per_region(subsample, valid)\n",
    "        incomes_lst.append(inc)\n",
    "        \n",
    "    \n",
    "    incomes_series = pd.Series(incomes_lst)\n",
    "    loss = (incomes_series < 0).mean()\n",
    "    \n",
    "    return incomes_series, loss\n",
    "\n",
    "\n",
    "\n",
    "def results_calculation(income):\n",
    "    '''Функция рассчитывает нижний, верхний квантиль и среднее для выборки. Функция возвращает список рассчитанных значений'''\n",
    "    lower = income.quantile(q_lower)\n",
    "    upper = income.quantile(q_upper)\n",
    "    mean = income.mean()\n",
    "    \n",
    "    return [lower, upper, mean]"
   ]
  },
  {
   "cell_type": "markdown",
   "metadata": {},
   "source": [
    "Применим функции на предсказанные значения:"
   ]
  },
  {
   "cell_type": "code",
   "execution_count": 25,
   "metadata": {},
   "outputs": [],
   "source": [
    "incomes = []\n",
    "results = []\n",
    "for prod in zip(pred_products, valid_products):\n",
    "    bootstrap_res = bootstrap_income(prod[0], prod[1])\n",
    "    income = bootstrap_res[0]\n",
    "    result = [bootstrap_res[1]] + results_calculation(income)\n",
    "    \n",
    "\n",
    "    incomes.append(income)\n",
    "    results.append(result)\n",
    "total_regions.loc[:, ['loss', 'lower_q', 'upper_q', 'income_mean']] = results"
   ]
  },
  {
   "cell_type": "markdown",
   "metadata": {},
   "source": [
    "Построение 95% доверительного интервала для данных полученных бутстрепом:"
   ]
  },
  {
   "cell_type": "code",
   "execution_count": 26,
   "metadata": {},
   "outputs": [
    {
     "data": {
      "image/png": "[encoded data removed]",
      "text/plain": [
       "<Figure size 1152x360 with 3 Axes>"
      ]
     },
     "metadata": {},
     "output_type": "display_data"
    }
   ],
   "source": [
    "plt.subplots(1,3,figsize=(16,5))\n",
    "for i, res in enumerate(zip(incomes, results)):\n",
    "    plt.subplot(1,3, i+1)\n",
    "    sns.histplot(res[0], bins=25, color='b')\n",
    "    plt.axvline(x = res[1][1], color = 'r')\n",
    "    plt.axvline(x = res[1][2], color = 'r')\n",
    "    plt.text(x = res[1][1] - np.std(res[0])/3, y = 80, s='q lower', rotation=90, color='r', fontsize=12)\n",
    "    plt.text(x = res[1][2] - np.std(res[0])/3, y = 80, s='q upper', rotation=90, color='r', fontsize=12)\n",
    "    plt.ylim(0,140)\n",
    "    plt.ylabel('Количество наблюдений')\n",
    "    plt.xlabel('Прибыль, руб.')"
   ]
  },
  {
   "cell_type": "markdown",
   "metadata": {},
   "source": [
    "Не все доверительные интервалы получились положительными, только регион 2 находится имеет 95% значений в положительном участке\n",
    "\n",
    "Результаты представлены в таблице, lower_q и upper_q - квантили 95% доверительного интервала; loss - риск убытка, %; income_mean - средняя прибыль по региону."
   ]
  },
  {
   "cell_type": "code",
   "execution_count": 27,
   "metadata": {},
   "outputs": [
    {
     "data": {
      "text/html": [
       "<div>\n",
       "<style scoped>\n",
       "    .dataframe tbody tr th:only-of-type {\n",
       "        vertical-align: middle;\n",
       "    }\n",
       "\n",
       "    .dataframe tbody tr th {\n",
       "        vertical-align: top;\n",
       "    }\n",
       "\n",
       "    .dataframe thead th {\n",
       "        text-align: right;\n",
       "    }\n",
       "</style>\n",
       "<table border=\"1\" class=\"dataframe\">\n",
       "  <thead>\n",
       "    <tr style=\"text-align: right;\">\n",
       "      <th></th>\n",
       "      <th>MSE</th>\n",
       "      <th>RMSE</th>\n",
       "      <th>true_mean</th>\n",
       "      <th>predicted_mean</th>\n",
       "      <th>loss</th>\n",
       "      <th>lower_q</th>\n",
       "      <th>upper_q</th>\n",
       "      <th>income_mean</th>\n",
       "    </tr>\n",
       "  </thead>\n",
       "  <tbody>\n",
       "    <tr>\n",
       "      <th>region_1</th>\n",
       "      <td>1425.56087</td>\n",
       "      <td>37.7566</td>\n",
       "      <td>92.325956</td>\n",
       "      <td>92.3988</td>\n",
       "      <td>0.060</td>\n",
       "      <td>-1.104679e+08</td>\n",
       "      <td>8.974603e+08</td>\n",
       "      <td>3.995755e+08</td>\n",
       "    </tr>\n",
       "    <tr>\n",
       "      <th>region_2</th>\n",
       "      <td>0.792599</td>\n",
       "      <td>0.89028</td>\n",
       "      <td>68.725381</td>\n",
       "      <td>68.712878</td>\n",
       "      <td>0.009</td>\n",
       "      <td>5.230941e+07</td>\n",
       "      <td>8.301463e+08</td>\n",
       "      <td>4.525766e+08</td>\n",
       "    </tr>\n",
       "    <tr>\n",
       "      <th>region_3</th>\n",
       "      <td>1611.691064</td>\n",
       "      <td>40.145872</td>\n",
       "      <td>95.150999</td>\n",
       "      <td>94.771024</td>\n",
       "      <td>0.075</td>\n",
       "      <td>-1.277794e+08</td>\n",
       "      <td>9.079235e+08</td>\n",
       "      <td>3.787059e+08</td>\n",
       "    </tr>\n",
       "  </tbody>\n",
       "</table>\n",
       "</div>"
      ],
      "text/plain": [
       "                  MSE       RMSE  true_mean predicted_mean   loss  \\\n",
       "region_1   1425.56087    37.7566  92.325956        92.3988  0.060   \n",
       "region_2     0.792599    0.89028  68.725381      68.712878  0.009   \n",
       "region_3  1611.691064  40.145872  95.150999      94.771024  0.075   \n",
       "\n",
       "               lower_q       upper_q   income_mean  \n",
       "region_1 -1.104679e+08  8.974603e+08  3.995755e+08  \n",
       "region_2  5.230941e+07  8.301463e+08  4.525766e+08  \n",
       "region_3 -1.277794e+08  9.079235e+08  3.787059e+08  "
      ]
     },
     "execution_count": 27,
     "metadata": {},
     "output_type": "execute_result"
    }
   ],
   "source": [
    "total_regions"
   ]
  },
  {
   "cell_type": "markdown",
   "metadata": {},
   "source": [
    "Единственный регион, в котором вероятность убытка менее 2.5% - регион №2. Вероятность убытка в нем составляет 0.9%, а средняя прибыль равна 452 млн. руб. Конечный выбор региона для освоения падает именно на него.\n",
    "\n",
    "В регионах 1 и 3 вероятность убытка составила 6% и 7.5%, что значительно выше порога, придется отказаться от разработки этих регионов."
   ]
  },
  {
   "cell_type": "markdown",
   "metadata": {},
   "source": [
    "## Вывод по проекту"
   ]
  },
  {
   "cell_type": "code",
   "execution_count": 28,
   "metadata": {},
   "outputs": [
    {
     "data": {
      "text/html": [
       "<div>\n",
       "<style scoped>\n",
       "    .dataframe tbody tr th:only-of-type {\n",
       "        vertical-align: middle;\n",
       "    }\n",
       "\n",
       "    .dataframe tbody tr th {\n",
       "        vertical-align: top;\n",
       "    }\n",
       "\n",
       "    .dataframe thead th {\n",
       "        text-align: right;\n",
       "    }\n",
       "</style>\n",
       "<table border=\"1\" class=\"dataframe\">\n",
       "  <thead>\n",
       "    <tr style=\"text-align: right;\">\n",
       "      <th></th>\n",
       "      <th>MSE</th>\n",
       "      <th>RMSE</th>\n",
       "      <th>true_mean</th>\n",
       "      <th>predicted_mean</th>\n",
       "      <th>loss</th>\n",
       "      <th>lower_q</th>\n",
       "      <th>upper_q</th>\n",
       "      <th>income_mean</th>\n",
       "    </tr>\n",
       "  </thead>\n",
       "  <tbody>\n",
       "    <tr>\n",
       "      <th>region_1</th>\n",
       "      <td>1425.56087</td>\n",
       "      <td>37.7566</td>\n",
       "      <td>92.325956</td>\n",
       "      <td>92.3988</td>\n",
       "      <td>0.060</td>\n",
       "      <td>-1.104679e+08</td>\n",
       "      <td>8.974603e+08</td>\n",
       "      <td>3.995755e+08</td>\n",
       "    </tr>\n",
       "    <tr>\n",
       "      <th>region_2</th>\n",
       "      <td>0.792599</td>\n",
       "      <td>0.89028</td>\n",
       "      <td>68.725381</td>\n",
       "      <td>68.712878</td>\n",
       "      <td>0.009</td>\n",
       "      <td>5.230941e+07</td>\n",
       "      <td>8.301463e+08</td>\n",
       "      <td>4.525766e+08</td>\n",
       "    </tr>\n",
       "    <tr>\n",
       "      <th>region_3</th>\n",
       "      <td>1611.691064</td>\n",
       "      <td>40.145872</td>\n",
       "      <td>95.150999</td>\n",
       "      <td>94.771024</td>\n",
       "      <td>0.075</td>\n",
       "      <td>-1.277794e+08</td>\n",
       "      <td>9.079235e+08</td>\n",
       "      <td>3.787059e+08</td>\n",
       "    </tr>\n",
       "  </tbody>\n",
       "</table>\n",
       "</div>"
      ],
      "text/plain": [
       "                  MSE       RMSE  true_mean predicted_mean   loss  \\\n",
       "region_1   1425.56087    37.7566  92.325956        92.3988  0.060   \n",
       "region_2     0.792599    0.89028  68.725381      68.712878  0.009   \n",
       "region_3  1611.691064  40.145872  95.150999      94.771024  0.075   \n",
       "\n",
       "               lower_q       upper_q   income_mean  \n",
       "region_1 -1.104679e+08  8.974603e+08  3.995755e+08  \n",
       "region_2  5.230941e+07  8.301463e+08  4.525766e+08  \n",
       "region_3 -1.277794e+08  9.079235e+08  3.787059e+08  "
      ]
     },
     "execution_count": 28,
     "metadata": {},
     "output_type": "execute_result"
    }
   ],
   "source": [
    "total_regions"
   ]
  },
  {
   "cell_type": "markdown",
   "metadata": {},
   "source": [
    "1. Для расчета возможной прибыли и построения плана разработки месторождений нам было предоставлено 3 датасета, содержащие информацию о скважинах в трех регионах. Каждый из датасетов содержит 100000 строк и 5 столбцов с различной информацией:\n",
    "* id — уникальный идентификатор скважины;\n",
    "* f0, f1, f2 — три синтетических признака точек;\n",
    "* product — объём запасов в скважине (тыс. баррелей).\n",
    "\n",
    "При этом самые большие средние запасы нефти имеет регион 3, после него идет регион 1: 95 и 92 тыс. баррелей соответственно. Меньше всего запасы во 2 регионе: 68.8 тыс. баррелей.\n",
    "\n",
    "Сами признаки в датасетах имеют разные распределения, но схожие средние значения. Заметна очень сильная корреляция признака f2 и product региона 2. Остальные признаки либо не имеют корреляции с другими признаками/целевым признаком, либо имеют незначительную/умеренную корреляцию. Дополнительная обработка данных перед моделированием не требовалась.\n",
    "\n",
    "2. Мы разбили наши данные на обучающую и валидационные выборки в отношении 3:1 и произвели обучение и предсказание результатов для каждого из регионов, а так же вычислили основные метрики MSE, RMSE и средние показатели продукта\n",
    "\n",
    "Регион 1 и регион 3 имеют близкое среднее значение продукта - 92-95 тыс. баррелей, а регион 1 имеет самое низкое среднее количество продукта - 69 тыс. баррелей.\n",
    "\n",
    "В таблице представлены значения метрик и средних:\n",
    "* Модель региона 1 имеет средние показатели, по сравнению с остальными: MSE=1404; RMSE=37.5\n",
    "* Модель региона 2 получилась самой точной, она имеет очень низкие MSE и RMSE (меньше единицы)\n",
    "* Модель региона 3 имеет самую низкую точность из всех, MSE=1602, RMSE=40\n",
    "\n",
    "Получается, что для регионов 1 и 3 мы имеем низкую точность (При RMSE=37/40 и среднем 92/95 ошибка получается порядка 35-40%).\n",
    "\n",
    "Хорошие показатели модели для региона 2 скорее всего обусловлены изначальным распределением признаков и продукта (сама задача практически сводится к классификации), а так же наличии очень сильной корреляции между признаком f2 и целевым признаком в данном датасете.\n",
    "\n",
    "3. Вычислив значения запасов сырья в скважинах мы произвели подготовку к расчету прибыли: вычислили необходимый порог для разработки одной скважины и задали основные константы. Так же определили функцию для расчета прибыли от 200 лучших скважин.\n",
    "\n",
    "Для получения общего представления о прибыли мы воспользовались методом bootstrap на 1000 выборках для 500 точек, каждый раз отбирая 200 лучших скважин и вычисляя для них прибыль. Так же мы подсчитали вероятность риска, в случаях, когда прибыль становилась отрицательной.\n",
    "\n",
    "**В результате единственным регионом с риском убытка менее 2.5% оказался регион №2. Средняя прибыль в нем на основе бутстрепа - 452 млн. руб, риск убытка 0.9%.**"
   ]
  }
 ],
 "metadata": {
  "ExecuteTimeLog": [
   {
    "duration": 1307,
    "start_time": "2022-11-08T11:48:20.375Z"
   },
   {
    "duration": 462,
    "start_time": "2022-11-08T11:48:48.743Z"
   },
   {
    "duration": 16,
    "start_time": "2022-11-08T11:48:54.197Z"
   },
   {
    "duration": 494,
    "start_time": "2022-11-08T11:49:41.374Z"
   },
   {
    "duration": 378,
    "start_time": "2022-11-08T11:50:12.054Z"
   },
   {
    "duration": 2,
    "start_time": "2022-11-08T11:50:31.345Z"
   },
   {
    "duration": 99,
    "start_time": "2022-11-08T11:50:45.712Z"
   },
   {
    "duration": 7,
    "start_time": "2022-11-08T11:50:54.189Z"
   },
   {
    "duration": 4,
    "start_time": "2022-11-08T11:51:02.886Z"
   },
   {
    "duration": 15,
    "start_time": "2022-11-08T11:51:09.323Z"
   },
   {
    "duration": 16,
    "start_time": "2022-11-08T11:52:50.774Z"
   },
   {
    "duration": 3,
    "start_time": "2022-11-08T11:54:31.757Z"
   },
   {
    "duration": 3,
    "start_time": "2022-11-08T11:54:43.825Z"
   },
   {
    "duration": 7,
    "start_time": "2022-11-08T11:54:56.699Z"
   },
   {
    "duration": 15,
    "start_time": "2022-11-08T11:54:59.725Z"
   },
   {
    "duration": 16,
    "start_time": "2022-11-08T11:55:14.417Z"
   },
   {
    "duration": 11,
    "start_time": "2022-11-08T11:55:28.733Z"
   },
   {
    "duration": 14,
    "start_time": "2022-11-08T11:55:42.736Z"
   },
   {
    "duration": 12,
    "start_time": "2022-11-08T11:55:46.599Z"
   },
   {
    "duration": 24,
    "start_time": "2022-11-08T11:55:58.298Z"
   },
   {
    "duration": 25,
    "start_time": "2022-11-08T11:56:05.486Z"
   },
   {
    "duration": 42,
    "start_time": "2022-11-08T11:56:46.484Z"
   },
   {
    "duration": 32,
    "start_time": "2022-11-08T11:56:55.915Z"
   },
   {
    "duration": 40,
    "start_time": "2022-11-08T11:56:58.829Z"
   },
   {
    "duration": 40,
    "start_time": "2022-11-08T11:57:09.698Z"
   },
   {
    "duration": 40,
    "start_time": "2022-11-08T11:57:21.813Z"
   },
   {
    "duration": 3,
    "start_time": "2022-11-08T11:57:48.115Z"
   },
   {
    "duration": 23,
    "start_time": "2022-11-08T11:57:48.329Z"
   },
   {
    "duration": 38,
    "start_time": "2022-11-08T11:57:56.245Z"
   },
   {
    "duration": 284,
    "start_time": "2022-11-08T11:58:50.913Z"
   },
   {
    "duration": 3,
    "start_time": "2022-11-08T12:00:37.720Z"
   },
   {
    "duration": 15,
    "start_time": "2022-11-08T12:01:33.385Z"
   },
   {
    "duration": 333,
    "start_time": "2022-11-08T12:01:37.317Z"
   },
   {
    "duration": 314,
    "start_time": "2022-11-08T12:02:09.002Z"
   },
   {
    "duration": 315,
    "start_time": "2022-11-08T12:02:14.059Z"
   },
   {
    "duration": 307,
    "start_time": "2022-11-08T12:02:18.951Z"
   },
   {
    "duration": 357,
    "start_time": "2022-11-08T12:02:23.744Z"
   },
   {
    "duration": 298,
    "start_time": "2022-11-08T12:02:28.917Z"
   },
   {
    "duration": 376,
    "start_time": "2022-11-08T12:02:36.484Z"
   },
   {
    "duration": 313,
    "start_time": "2022-11-08T12:02:39.275Z"
   },
   {
    "duration": 302,
    "start_time": "2022-11-08T12:02:42.242Z"
   },
   {
    "duration": 4355,
    "start_time": "2022-11-08T12:37:32.510Z"
   },
   {
    "duration": 312,
    "start_time": "2022-11-08T12:38:22.415Z"
   },
   {
    "duration": 21,
    "start_time": "2022-11-08T12:45:56.087Z"
   },
   {
    "duration": 10,
    "start_time": "2022-11-08T12:46:13.428Z"
   },
   {
    "duration": 19,
    "start_time": "2022-11-08T12:46:20.999Z"
   },
   {
    "duration": 11,
    "start_time": "2022-11-08T12:46:30.773Z"
   },
   {
    "duration": 1146,
    "start_time": "2022-11-08T12:46:35.676Z"
   },
   {
    "duration": 3,
    "start_time": "2022-11-08T12:46:39.993Z"
   },
   {
    "duration": 1127,
    "start_time": "2022-11-08T12:46:40.347Z"
   },
   {
    "duration": 1180,
    "start_time": "2022-11-08T12:46:47.713Z"
   },
   {
    "duration": 2030,
    "start_time": "2022-11-08T14:40:09.469Z"
   },
   {
    "duration": 4,
    "start_time": "2022-11-08T14:40:14.342Z"
   },
   {
    "duration": 392,
    "start_time": "2022-11-08T14:40:14.562Z"
   },
   {
    "duration": 5,
    "start_time": "2022-11-08T14:40:14.956Z"
   },
   {
    "duration": 2895,
    "start_time": "2022-11-08T14:40:14.962Z"
   },
   {
    "duration": 0,
    "start_time": "2022-11-08T14:40:17.858Z"
   },
   {
    "duration": 42,
    "start_time": "2022-11-08T14:40:21.601Z"
   },
   {
    "duration": 24,
    "start_time": "2022-11-08T14:40:30.507Z"
   },
   {
    "duration": 1883,
    "start_time": "2022-11-08T14:47:04.819Z"
   },
   {
    "duration": 1766,
    "start_time": "2022-11-08T14:47:12.685Z"
   },
   {
    "duration": 4,
    "start_time": "2022-11-08T14:48:20.313Z"
   },
   {
    "duration": 287,
    "start_time": "2022-11-08T14:48:23.705Z"
   },
   {
    "duration": 1668,
    "start_time": "2022-11-08T14:48:25.911Z"
   },
   {
    "duration": 1786,
    "start_time": "2022-11-08T14:48:43.295Z"
   },
   {
    "duration": 1686,
    "start_time": "2022-11-08T14:48:47.814Z"
   },
   {
    "duration": 1832,
    "start_time": "2022-11-08T14:48:52.616Z"
   },
   {
    "duration": 1960,
    "start_time": "2022-11-08T14:49:01.687Z"
   },
   {
    "duration": 15,
    "start_time": "2022-11-08T15:29:23.746Z"
   },
   {
    "duration": 12,
    "start_time": "2022-11-08T15:29:26.772Z"
   },
   {
    "duration": 12,
    "start_time": "2022-11-08T15:29:30.256Z"
   },
   {
    "duration": 262,
    "start_time": "2022-11-08T15:29:33.314Z"
   },
   {
    "duration": 316,
    "start_time": "2022-11-08T15:29:51.336Z"
   },
   {
    "duration": 251,
    "start_time": "2022-11-08T15:29:55.799Z"
   },
   {
    "duration": 11,
    "start_time": "2022-11-08T15:30:35.587Z"
   },
   {
    "duration": 3,
    "start_time": "2022-11-08T15:30:38.791Z"
   },
   {
    "duration": 5,
    "start_time": "2022-11-08T15:30:42.911Z"
   },
   {
    "duration": 4,
    "start_time": "2022-11-08T15:30:50.100Z"
   },
   {
    "duration": 4,
    "start_time": "2022-11-08T15:30:51.275Z"
   },
   {
    "duration": 10,
    "start_time": "2022-11-08T16:55:03.653Z"
   },
   {
    "duration": 75,
    "start_time": "2022-11-08T16:55:10.955Z"
   },
   {
    "duration": 175,
    "start_time": "2022-11-08T16:55:13.584Z"
   },
   {
    "duration": 164,
    "start_time": "2022-11-08T16:55:28.219Z"
   },
   {
    "duration": 75,
    "start_time": "2022-11-08T16:56:10.140Z"
   },
   {
    "duration": 68,
    "start_time": "2022-11-08T16:56:13.208Z"
   },
   {
    "duration": 87,
    "start_time": "2022-11-08T16:56:14.994Z"
   },
   {
    "duration": 100,
    "start_time": "2022-11-08T16:56:18.682Z"
   },
   {
    "duration": 115,
    "start_time": "2022-11-08T16:56:36.199Z"
   },
   {
    "duration": 1322,
    "start_time": "2022-11-09T10:41:35.919Z"
   },
   {
    "duration": 816,
    "start_time": "2022-11-09T10:41:37.243Z"
   },
   {
    "duration": 3,
    "start_time": "2022-11-09T10:41:38.061Z"
   },
   {
    "duration": 34,
    "start_time": "2022-11-09T10:41:38.067Z"
   },
   {
    "duration": 184,
    "start_time": "2022-11-09T10:41:38.102Z"
   },
   {
    "duration": 123,
    "start_time": "2022-11-09T10:41:38.298Z"
   },
   {
    "duration": 6,
    "start_time": "2022-11-09T10:44:21.572Z"
   },
   {
    "duration": 105,
    "start_time": "2022-11-09T10:45:16.559Z"
   },
   {
    "duration": 11,
    "start_time": "2022-11-09T10:45:21.937Z"
   },
   {
    "duration": 337,
    "start_time": "2022-11-09T10:45:29.866Z"
   },
   {
    "duration": 13,
    "start_time": "2022-11-09T10:45:47.246Z"
   },
   {
    "duration": 769,
    "start_time": "2022-11-09T10:45:49.994Z"
   },
   {
    "duration": 784,
    "start_time": "2022-11-09T10:46:00.876Z"
   },
   {
    "duration": 15,
    "start_time": "2022-11-09T10:46:06.446Z"
   },
   {
    "duration": 655,
    "start_time": "2022-11-09T10:46:09.037Z"
   },
   {
    "duration": 1158,
    "start_time": "2022-11-09T10:46:17.900Z"
   },
   {
    "duration": 1354,
    "start_time": "2022-11-09T10:46:32.994Z"
   },
   {
    "duration": 1477,
    "start_time": "2022-11-09T10:46:44.878Z"
   },
   {
    "duration": 2211,
    "start_time": "2022-11-09T10:46:52.645Z"
   },
   {
    "duration": 2055,
    "start_time": "2022-11-09T10:46:57.304Z"
   },
   {
    "duration": 774,
    "start_time": "2022-11-09T10:47:20.491Z"
   },
   {
    "duration": 2085,
    "start_time": "2022-11-09T10:47:29.808Z"
   },
   {
    "duration": 2244,
    "start_time": "2022-11-09T10:48:00.621Z"
   },
   {
    "duration": 2891,
    "start_time": "2022-11-09T10:48:05.703Z"
   },
   {
    "duration": 2255,
    "start_time": "2022-11-09T10:48:29.513Z"
   },
   {
    "duration": 2184,
    "start_time": "2022-11-09T10:49:16.344Z"
   },
   {
    "duration": 2315,
    "start_time": "2022-11-09T10:49:23.587Z"
   },
   {
    "duration": 3053,
    "start_time": "2022-11-09T10:49:37.404Z"
   },
   {
    "duration": 7,
    "start_time": "2022-11-09T10:53:30.627Z"
   },
   {
    "duration": 10,
    "start_time": "2022-11-09T10:53:38.047Z"
   },
   {
    "duration": 6,
    "start_time": "2022-11-09T10:53:42.061Z"
   },
   {
    "duration": 2873,
    "start_time": "2022-11-09T10:53:42.391Z"
   },
   {
    "duration": 6,
    "start_time": "2022-11-09T10:54:03.909Z"
   },
   {
    "duration": 3322,
    "start_time": "2022-11-09T10:54:05.691Z"
   },
   {
    "duration": 6,
    "start_time": "2022-11-09T10:54:46.122Z"
   },
   {
    "duration": 2957,
    "start_time": "2022-11-09T10:54:48.196Z"
   },
   {
    "duration": 6,
    "start_time": "2022-11-09T10:55:19.655Z"
   },
   {
    "duration": 3522,
    "start_time": "2022-11-09T10:55:21.555Z"
   },
   {
    "duration": 11,
    "start_time": "2022-11-09T10:56:23.115Z"
   },
   {
    "duration": 9362,
    "start_time": "2022-11-09T10:56:26.344Z"
   },
   {
    "duration": 2954,
    "start_time": "2022-11-09T10:57:11.282Z"
   },
   {
    "duration": 3479,
    "start_time": "2022-11-09T10:57:17.560Z"
   },
   {
    "duration": 5,
    "start_time": "2022-11-09T10:57:42.420Z"
   },
   {
    "duration": 2874,
    "start_time": "2022-11-09T10:57:42.838Z"
   },
   {
    "duration": 3197,
    "start_time": "2022-11-09T10:57:45.714Z"
   },
   {
    "duration": 3005,
    "start_time": "2022-11-09T10:57:48.912Z"
   },
   {
    "duration": 1452,
    "start_time": "2022-11-10T11:02:11.545Z"
   },
   {
    "duration": 1804,
    "start_time": "2022-11-10T11:02:12.999Z"
   },
   {
    "duration": 4,
    "start_time": "2022-11-10T11:02:14.806Z"
   },
   {
    "duration": 59,
    "start_time": "2022-11-10T11:02:14.812Z"
   },
   {
    "duration": 199,
    "start_time": "2022-11-10T11:02:14.874Z"
   },
   {
    "duration": 166,
    "start_time": "2022-11-10T11:02:15.075Z"
   },
   {
    "duration": 6,
    "start_time": "2022-11-10T11:02:15.243Z"
   },
   {
    "duration": 3304,
    "start_time": "2022-11-10T11:02:15.251Z"
   },
   {
    "duration": 3194,
    "start_time": "2022-11-10T11:02:18.557Z"
   },
   {
    "duration": 3640,
    "start_time": "2022-11-10T11:02:21.753Z"
   },
   {
    "duration": 155,
    "start_time": "2022-11-10T11:02:53.603Z"
   },
   {
    "duration": 293,
    "start_time": "2022-11-10T11:03:02.093Z"
   },
   {
    "duration": 344,
    "start_time": "2022-11-10T11:06:07.847Z"
   },
   {
    "duration": 268,
    "start_time": "2022-11-10T11:06:28.242Z"
   },
   {
    "duration": 271,
    "start_time": "2022-11-10T11:06:31.908Z"
   },
   {
    "duration": 287,
    "start_time": "2022-11-10T11:06:35.432Z"
   },
   {
    "duration": 239,
    "start_time": "2022-11-10T11:06:45.751Z"
   },
   {
    "duration": 612,
    "start_time": "2022-11-10T11:06:51.465Z"
   },
   {
    "duration": 608,
    "start_time": "2022-11-10T11:07:18.466Z"
   },
   {
    "duration": 552,
    "start_time": "2022-11-10T11:07:25.532Z"
   },
   {
    "duration": 540,
    "start_time": "2022-11-10T11:07:33.798Z"
   },
   {
    "duration": 582,
    "start_time": "2022-11-10T11:07:37.435Z"
   },
   {
    "duration": 563,
    "start_time": "2022-11-10T11:07:42.141Z"
   },
   {
    "duration": 543,
    "start_time": "2022-11-10T11:07:47.967Z"
   },
   {
    "duration": 575,
    "start_time": "2022-11-10T11:08:19.137Z"
   },
   {
    "duration": 703,
    "start_time": "2022-11-10T11:08:44.451Z"
   },
   {
    "duration": 693,
    "start_time": "2022-11-10T11:08:49.045Z"
   },
   {
    "duration": 845,
    "start_time": "2022-11-10T11:08:52.146Z"
   },
   {
    "duration": 724,
    "start_time": "2022-11-10T11:09:10.954Z"
   },
   {
    "duration": 689,
    "start_time": "2022-11-10T11:09:17.014Z"
   },
   {
    "duration": 706,
    "start_time": "2022-11-10T11:09:21.887Z"
   },
   {
    "duration": 880,
    "start_time": "2022-11-10T11:09:30.009Z"
   },
   {
    "duration": 743,
    "start_time": "2022-11-10T11:09:38.468Z"
   },
   {
    "duration": 751,
    "start_time": "2022-11-10T11:09:48.889Z"
   },
   {
    "duration": 287,
    "start_time": "2022-11-10T11:10:16.911Z"
   },
   {
    "duration": 290,
    "start_time": "2022-11-10T11:10:34.577Z"
   },
   {
    "duration": 416,
    "start_time": "2022-11-10T11:10:39.535Z"
   },
   {
    "duration": 330,
    "start_time": "2022-11-10T11:10:55.304Z"
   },
   {
    "duration": 865,
    "start_time": "2022-11-10T11:11:07.881Z"
   },
   {
    "duration": 1132,
    "start_time": "2022-11-10T11:11:34.871Z"
   },
   {
    "duration": 1025,
    "start_time": "2022-11-10T11:12:16.916Z"
   },
   {
    "duration": 816,
    "start_time": "2022-11-10T11:12:26.865Z"
   },
   {
    "duration": 869,
    "start_time": "2022-11-10T11:12:30.815Z"
   },
   {
    "duration": 8,
    "start_time": "2022-11-10T11:18:06.443Z"
   },
   {
    "duration": 3651,
    "start_time": "2022-11-10T11:18:06.627Z"
   },
   {
    "duration": 160,
    "start_time": "2022-11-10T11:19:14.909Z"
   },
   {
    "duration": 924,
    "start_time": "2022-11-10T11:19:28.091Z"
   },
   {
    "duration": 21,
    "start_time": "2022-11-10T11:19:32.530Z"
   },
   {
    "duration": 20,
    "start_time": "2022-11-10T11:19:36.563Z"
   },
   {
    "duration": 314,
    "start_time": "2022-11-10T14:33:49.802Z"
   },
   {
    "duration": 32,
    "start_time": "2022-11-10T14:35:06.497Z"
   },
   {
    "duration": 3,
    "start_time": "2022-11-10T14:35:59.801Z"
   },
   {
    "duration": 19,
    "start_time": "2022-11-10T14:36:10.035Z"
   },
   {
    "duration": 15,
    "start_time": "2022-11-10T14:36:14.102Z"
   },
   {
    "duration": 4,
    "start_time": "2022-11-10T14:37:01.778Z"
   },
   {
    "duration": 5,
    "start_time": "2022-11-10T14:37:12.437Z"
   },
   {
    "duration": 31,
    "start_time": "2022-11-10T14:37:53.016Z"
   },
   {
    "duration": 17,
    "start_time": "2022-11-10T14:41:07.740Z"
   },
   {
    "duration": 3,
    "start_time": "2022-11-10T14:41:16.104Z"
   },
   {
    "duration": 18,
    "start_time": "2022-11-10T14:41:30.663Z"
   },
   {
    "duration": 11,
    "start_time": "2022-11-10T14:42:29.352Z"
   },
   {
    "duration": 9,
    "start_time": "2022-11-10T14:42:35.967Z"
   },
   {
    "duration": 6,
    "start_time": "2022-11-10T14:47:25.184Z"
   },
   {
    "duration": 25,
    "start_time": "2022-11-10T14:47:26.645Z"
   },
   {
    "duration": 7,
    "start_time": "2022-11-10T14:47:58.474Z"
   },
   {
    "duration": 25,
    "start_time": "2022-11-10T14:47:59.645Z"
   },
   {
    "duration": 12,
    "start_time": "2022-11-10T14:48:36.502Z"
   },
   {
    "duration": 19,
    "start_time": "2022-11-10T14:48:39.030Z"
   },
   {
    "duration": 11,
    "start_time": "2022-11-10T14:48:47.937Z"
   },
   {
    "duration": 3448,
    "start_time": "2022-11-10T14:48:49.352Z"
   },
   {
    "duration": 142,
    "start_time": "2022-11-10T14:49:32.825Z"
   },
   {
    "duration": 92,
    "start_time": "2022-11-10T14:49:35.224Z"
   },
   {
    "duration": 133,
    "start_time": "2022-11-10T14:49:35.363Z"
   },
   {
    "duration": 16,
    "start_time": "2022-11-10T14:49:49.123Z"
   },
   {
    "duration": 3077,
    "start_time": "2022-11-10T14:49:49.617Z"
   },
   {
    "duration": 218,
    "start_time": "2022-11-10T14:50:22.948Z"
   },
   {
    "duration": 3558,
    "start_time": "2022-11-10T14:50:23.416Z"
   },
   {
    "duration": 6,
    "start_time": "2022-11-10T14:50:49.290Z"
   },
   {
    "duration": 3711,
    "start_time": "2022-11-10T14:50:49.971Z"
   },
   {
    "duration": 12,
    "start_time": "2022-11-10T14:50:56.937Z"
   },
   {
    "duration": 3419,
    "start_time": "2022-11-10T14:50:57.263Z"
   },
   {
    "duration": 7,
    "start_time": "2022-11-10T14:51:17.510Z"
   },
   {
    "duration": 3634,
    "start_time": "2022-11-10T14:51:17.739Z"
   },
   {
    "duration": 10,
    "start_time": "2022-11-10T14:51:37.038Z"
   },
   {
    "duration": 3732,
    "start_time": "2022-11-10T14:51:37.215Z"
   },
   {
    "duration": 7,
    "start_time": "2022-11-10T14:51:51.063Z"
   },
   {
    "duration": 18,
    "start_time": "2022-11-10T14:51:51.397Z"
   },
   {
    "duration": 7,
    "start_time": "2022-11-10T14:51:54.389Z"
   },
   {
    "duration": 28,
    "start_time": "2022-11-10T14:51:55.511Z"
   },
   {
    "duration": 6,
    "start_time": "2022-11-10T14:51:58.587Z"
   },
   {
    "duration": 16,
    "start_time": "2022-11-10T14:51:59.057Z"
   },
   {
    "duration": 92,
    "start_time": "2022-11-10T14:52:15.096Z"
   },
   {
    "duration": 6,
    "start_time": "2022-11-10T14:52:31.949Z"
   },
   {
    "duration": 19,
    "start_time": "2022-11-10T14:52:32.581Z"
   },
   {
    "duration": 6,
    "start_time": "2022-11-10T14:53:16.149Z"
   },
   {
    "duration": 3298,
    "start_time": "2022-11-10T14:53:16.551Z"
   },
   {
    "duration": 22,
    "start_time": "2022-11-10T14:53:32.711Z"
   },
   {
    "duration": 19,
    "start_time": "2022-11-10T14:53:33.094Z"
   },
   {
    "duration": 3398,
    "start_time": "2022-11-10T14:53:37.165Z"
   },
   {
    "duration": 3385,
    "start_time": "2022-11-10T14:53:40.566Z"
   },
   {
    "duration": 6,
    "start_time": "2022-11-10T14:57:27.549Z"
   },
   {
    "duration": 6,
    "start_time": "2022-11-10T14:57:40.214Z"
   },
   {
    "duration": 15,
    "start_time": "2022-11-10T14:58:04.235Z"
   },
   {
    "duration": 9,
    "start_time": "2022-11-10T14:58:09.960Z"
   },
   {
    "duration": 21,
    "start_time": "2022-11-10T15:01:46.425Z"
   },
   {
    "duration": 5,
    "start_time": "2022-11-10T15:01:47.162Z"
   },
   {
    "duration": 8,
    "start_time": "2022-11-10T15:01:47.629Z"
   },
   {
    "duration": 14,
    "start_time": "2022-11-10T15:01:47.962Z"
   },
   {
    "duration": 17,
    "start_time": "2022-11-10T15:01:48.372Z"
   },
   {
    "duration": 6,
    "start_time": "2022-11-10T15:01:48.727Z"
   },
   {
    "duration": 16,
    "start_time": "2022-11-10T15:01:56.945Z"
   },
   {
    "duration": 4,
    "start_time": "2022-11-10T15:01:57.356Z"
   },
   {
    "duration": 3,
    "start_time": "2022-11-10T15:01:57.789Z"
   },
   {
    "duration": 13,
    "start_time": "2022-11-10T15:01:58.046Z"
   },
   {
    "duration": 6,
    "start_time": "2022-11-10T15:01:58.254Z"
   },
   {
    "duration": 5,
    "start_time": "2022-11-10T15:01:58.491Z"
   },
   {
    "duration": 11,
    "start_time": "2022-11-10T15:02:53.646Z"
   },
   {
    "duration": 7,
    "start_time": "2022-11-10T15:02:53.918Z"
   },
   {
    "duration": 7,
    "start_time": "2022-11-10T15:02:54.120Z"
   },
   {
    "duration": 23,
    "start_time": "2022-11-10T15:02:54.408Z"
   },
   {
    "duration": 8,
    "start_time": "2022-11-10T15:02:54.599Z"
   },
   {
    "duration": 5,
    "start_time": "2022-11-10T15:02:54.865Z"
   },
   {
    "duration": 4,
    "start_time": "2022-11-10T21:09:38.672Z"
   },
   {
    "duration": 21,
    "start_time": "2022-11-10T21:09:45.754Z"
   },
   {
    "duration": 5,
    "start_time": "2022-11-10T21:09:52.891Z"
   },
   {
    "duration": 12,
    "start_time": "2022-11-10T21:09:53.268Z"
   },
   {
    "duration": 5,
    "start_time": "2022-11-10T21:09:53.482Z"
   },
   {
    "duration": 2,
    "start_time": "2022-11-10T21:09:53.645Z"
   },
   {
    "duration": 11,
    "start_time": "2022-11-10T21:09:53.821Z"
   },
   {
    "duration": 7,
    "start_time": "2022-11-10T21:09:53.993Z"
   },
   {
    "duration": 5,
    "start_time": "2022-11-10T21:09:54.152Z"
   },
   {
    "duration": 27,
    "start_time": "2022-11-10T21:09:54.546Z"
   },
   {
    "duration": 4,
    "start_time": "2022-11-10T21:16:49.359Z"
   },
   {
    "duration": 49,
    "start_time": "2022-11-10T22:55:22.570Z"
   },
   {
    "duration": 4,
    "start_time": "2022-11-10T22:55:32.516Z"
   },
   {
    "duration": 39,
    "start_time": "2022-11-10T22:55:33.185Z"
   },
   {
    "duration": 4,
    "start_time": "2022-11-10T22:55:42.047Z"
   },
   {
    "duration": 176,
    "start_time": "2022-11-10T22:55:46.343Z"
   },
   {
    "duration": 6,
    "start_time": "2022-11-10T22:55:51.887Z"
   },
   {
    "duration": 67,
    "start_time": "2022-11-10T22:55:52.459Z"
   },
   {
    "duration": 4,
    "start_time": "2022-11-10T22:55:57.226Z"
   },
   {
    "duration": 4,
    "start_time": "2022-11-10T22:56:01.733Z"
   },
   {
    "duration": 24,
    "start_time": "2022-11-10T22:56:02.376Z"
   },
   {
    "duration": 4,
    "start_time": "2022-11-10T22:56:21.782Z"
   },
   {
    "duration": 26,
    "start_time": "2022-11-10T22:56:22.198Z"
   },
   {
    "duration": 4,
    "start_time": "2022-11-10T22:56:33.965Z"
   },
   {
    "duration": 24,
    "start_time": "2022-11-10T22:56:34.317Z"
   },
   {
    "duration": 21,
    "start_time": "2022-11-10T22:56:50.348Z"
   },
   {
    "duration": 5,
    "start_time": "2022-11-10T22:56:54.006Z"
   },
   {
    "duration": 23,
    "start_time": "2022-11-10T22:57:00.776Z"
   },
   {
    "duration": 6,
    "start_time": "2022-11-10T22:57:01.020Z"
   },
   {
    "duration": 68,
    "start_time": "2022-11-10T22:57:22.851Z"
   },
   {
    "duration": 21,
    "start_time": "2022-11-10T22:57:28.438Z"
   },
   {
    "duration": 4,
    "start_time": "2022-11-10T22:57:30.911Z"
   },
   {
    "duration": 21,
    "start_time": "2022-11-10T22:57:34.232Z"
   },
   {
    "duration": 4,
    "start_time": "2022-11-10T22:57:34.814Z"
   },
   {
    "duration": 30,
    "start_time": "2022-11-10T22:57:44.013Z"
   },
   {
    "duration": 4,
    "start_time": "2022-11-10T22:57:44.235Z"
   },
   {
    "duration": 21,
    "start_time": "2022-11-10T22:57:47.488Z"
   },
   {
    "duration": 3,
    "start_time": "2022-11-10T22:57:47.953Z"
   },
   {
    "duration": 6,
    "start_time": "2022-11-10T22:59:21.693Z"
   },
   {
    "duration": 11,
    "start_time": "2022-11-10T23:00:18.235Z"
   },
   {
    "duration": 4,
    "start_time": "2022-11-10T23:00:28.118Z"
   },
   {
    "duration": 4,
    "start_time": "2022-11-10T23:00:55.682Z"
   },
   {
    "duration": 4,
    "start_time": "2022-11-10T23:01:00.073Z"
   },
   {
    "duration": 5,
    "start_time": "2022-11-10T23:01:41.266Z"
   },
   {
    "duration": 14,
    "start_time": "2022-11-10T23:01:45.479Z"
   },
   {
    "duration": 22,
    "start_time": "2022-11-10T23:01:48.369Z"
   },
   {
    "duration": 4,
    "start_time": "2022-11-10T23:01:48.585Z"
   },
   {
    "duration": 15,
    "start_time": "2022-11-10T23:01:48.964Z"
   },
   {
    "duration": 5,
    "start_time": "2022-11-10T23:01:51.941Z"
   },
   {
    "duration": 22,
    "start_time": "2022-11-10T23:01:52.306Z"
   },
   {
    "duration": 5,
    "start_time": "2022-11-10T23:01:52.520Z"
   },
   {
    "duration": 12,
    "start_time": "2022-11-10T23:01:52.876Z"
   },
   {
    "duration": 4,
    "start_time": "2022-11-10T23:02:02.408Z"
   },
   {
    "duration": 683,
    "start_time": "2022-11-10T23:02:08.373Z"
   },
   {
    "duration": 5,
    "start_time": "2022-11-10T23:02:10.051Z"
   },
   {
    "duration": 643,
    "start_time": "2022-11-10T23:02:10.205Z"
   },
   {
    "duration": 5,
    "start_time": "2022-11-10T23:02:19.335Z"
   },
   {
    "duration": 3,
    "start_time": "2022-11-10T23:02:24.897Z"
   },
   {
    "duration": 10,
    "start_time": "2022-11-10T23:02:32.787Z"
   },
   {
    "duration": 365,
    "start_time": "2022-11-10T23:03:10.355Z"
   },
   {
    "duration": 3,
    "start_time": "2022-11-10T23:03:27.772Z"
   },
   {
    "duration": 9,
    "start_time": "2022-11-10T23:03:27.971Z"
   },
   {
    "duration": 4,
    "start_time": "2022-11-10T23:03:50.637Z"
   },
   {
    "duration": 300,
    "start_time": "2022-11-10T23:03:51.124Z"
   },
   {
    "duration": 100,
    "start_time": "2022-11-10T23:03:51.426Z"
   },
   {
    "duration": 5,
    "start_time": "2022-11-10T23:03:51.919Z"
   },
   {
    "duration": 3,
    "start_time": "2022-11-10T23:03:52.557Z"
   },
   {
    "duration": 7,
    "start_time": "2022-11-10T23:03:53.258Z"
   },
   {
    "duration": 1666,
    "start_time": "2022-11-11T10:12:27.565Z"
   },
   {
    "duration": 3,
    "start_time": "2022-11-11T10:12:29.233Z"
   },
   {
    "duration": 856,
    "start_time": "2022-11-11T10:12:29.237Z"
   },
   {
    "duration": 4,
    "start_time": "2022-11-11T10:12:30.094Z"
   },
   {
    "duration": 36,
    "start_time": "2022-11-11T10:12:30.101Z"
   },
   {
    "duration": 193,
    "start_time": "2022-11-11T10:12:30.139Z"
   },
   {
    "duration": 126,
    "start_time": "2022-11-11T10:12:30.335Z"
   },
   {
    "duration": 7,
    "start_time": "2022-11-11T10:12:30.463Z"
   },
   {
    "duration": 3100,
    "start_time": "2022-11-11T10:12:30.472Z"
   },
   {
    "duration": 3079,
    "start_time": "2022-11-11T10:12:33.573Z"
   },
   {
    "duration": 3119,
    "start_time": "2022-11-11T10:12:36.653Z"
   },
   {
    "duration": 820,
    "start_time": "2022-11-11T10:12:39.774Z"
   },
   {
    "duration": 5,
    "start_time": "2022-11-11T10:12:40.596Z"
   },
   {
    "duration": 226,
    "start_time": "2022-11-11T10:12:40.604Z"
   },
   {
    "duration": 100,
    "start_time": "2022-11-11T10:12:40.922Z"
   },
   {
    "duration": 9,
    "start_time": "2022-11-11T10:12:41.024Z"
   },
   {
    "duration": 10,
    "start_time": "2022-11-11T10:12:41.035Z"
   },
   {
    "duration": 15,
    "start_time": "2022-11-11T10:12:41.046Z"
   },
   {
    "duration": 3,
    "start_time": "2022-11-11T10:34:42.236Z"
   },
   {
    "duration": 4,
    "start_time": "2022-11-11T10:35:06.901Z"
   },
   {
    "duration": 113,
    "start_time": "2022-11-11T10:36:10.246Z"
   },
   {
    "duration": 3,
    "start_time": "2022-11-11T10:36:15.199Z"
   },
   {
    "duration": 2,
    "start_time": "2022-11-11T10:36:15.603Z"
   },
   {
    "duration": 4,
    "start_time": "2022-11-11T10:36:21.065Z"
   },
   {
    "duration": 4,
    "start_time": "2022-11-11T10:37:07.964Z"
   },
   {
    "duration": 3,
    "start_time": "2022-11-11T10:39:38.102Z"
   },
   {
    "duration": 4,
    "start_time": "2022-11-11T10:39:41.185Z"
   },
   {
    "duration": 8,
    "start_time": "2022-11-11T10:41:15.401Z"
   },
   {
    "duration": 9,
    "start_time": "2022-11-11T10:41:41.761Z"
   },
   {
    "duration": 202,
    "start_time": "2022-11-11T10:41:49.243Z"
   },
   {
    "duration": 231,
    "start_time": "2022-11-11T10:42:47.295Z"
   },
   {
    "duration": 383,
    "start_time": "2022-11-11T10:42:56.849Z"
   },
   {
    "duration": 393,
    "start_time": "2022-11-11T10:43:04.966Z"
   },
   {
    "duration": 4,
    "start_time": "2022-11-11T10:45:55.847Z"
   },
   {
    "duration": 4,
    "start_time": "2022-11-11T10:45:58.850Z"
   },
   {
    "duration": 9,
    "start_time": "2022-11-11T10:47:26.299Z"
   },
   {
    "duration": 260,
    "start_time": "2022-11-11T10:47:27.765Z"
   },
   {
    "duration": 4,
    "start_time": "2022-11-11T10:47:28.027Z"
   },
   {
    "duration": 610,
    "start_time": "2022-11-11T10:48:26.802Z"
   },
   {
    "duration": 3,
    "start_time": "2022-11-11T10:53:30.801Z"
   },
   {
    "duration": 3,
    "start_time": "2022-11-11T10:54:59.617Z"
   },
   {
    "duration": 10,
    "start_time": "2022-11-11T10:55:08.899Z"
   },
   {
    "duration": 10,
    "start_time": "2022-11-11T10:55:25.305Z"
   },
   {
    "duration": 3,
    "start_time": "2022-11-11T10:55:35.366Z"
   },
   {
    "duration": 8,
    "start_time": "2022-11-11T10:55:35.665Z"
   },
   {
    "duration": 8,
    "start_time": "2022-11-11T10:55:39.173Z"
   },
   {
    "duration": 9,
    "start_time": "2022-11-11T10:55:42.020Z"
   },
   {
    "duration": 3,
    "start_time": "2022-11-11T10:58:12.206Z"
   },
   {
    "duration": 3,
    "start_time": "2022-11-11T13:34:54.994Z"
   },
   {
    "duration": 11,
    "start_time": "2022-11-11T13:36:58.487Z"
   },
   {
    "duration": 2,
    "start_time": "2022-11-11T13:37:00.245Z"
   },
   {
    "duration": 645,
    "start_time": "2022-11-11T13:37:00.922Z"
   },
   {
    "duration": 15,
    "start_time": "2022-11-11T13:37:06.225Z"
   },
   {
    "duration": 3,
    "start_time": "2022-11-11T13:37:15.355Z"
   },
   {
    "duration": 434,
    "start_time": "2022-11-11T13:37:18.739Z"
   },
   {
    "duration": 16,
    "start_time": "2022-11-11T13:37:19.175Z"
   },
   {
    "duration": 5,
    "start_time": "2022-11-11T13:37:57.595Z"
   },
   {
    "duration": 16,
    "start_time": "2022-11-11T13:38:00.750Z"
   },
   {
    "duration": 5,
    "start_time": "2022-11-11T13:38:25.399Z"
   },
   {
    "duration": 232,
    "start_time": "2022-11-11T13:38:41.598Z"
   },
   {
    "duration": 2,
    "start_time": "2022-11-11T13:38:42.023Z"
   },
   {
    "duration": 4,
    "start_time": "2022-11-11T13:38:42.258Z"
   },
   {
    "duration": 5,
    "start_time": "2022-11-11T13:38:42.436Z"
   },
   {
    "duration": 9,
    "start_time": "2022-11-11T13:38:42.613Z"
   },
   {
    "duration": 3,
    "start_time": "2022-11-11T13:38:43.196Z"
   },
   {
    "duration": 4,
    "start_time": "2022-11-11T13:38:43.565Z"
   },
   {
    "duration": 3,
    "start_time": "2022-11-11T13:38:43.904Z"
   },
   {
    "duration": 13,
    "start_time": "2022-11-11T13:38:44.292Z"
   },
   {
    "duration": 4,
    "start_time": "2022-11-11T13:38:44.459Z"
   },
   {
    "duration": 3,
    "start_time": "2022-11-11T13:38:46.976Z"
   },
   {
    "duration": 442,
    "start_time": "2022-11-11T13:38:47.263Z"
   },
   {
    "duration": 19,
    "start_time": "2022-11-11T13:38:47.707Z"
   },
   {
    "duration": 424,
    "start_time": "2022-11-11T13:38:52.352Z"
   },
   {
    "duration": 16,
    "start_time": "2022-11-11T13:38:52.778Z"
   },
   {
    "duration": 3,
    "start_time": "2022-11-11T13:39:03.777Z"
   },
   {
    "duration": 15,
    "start_time": "2022-11-11T13:39:07.021Z"
   },
   {
    "duration": 203,
    "start_time": "2022-11-11T13:39:24.630Z"
   },
   {
    "duration": 395,
    "start_time": "2022-11-11T13:39:43.296Z"
   },
   {
    "duration": 281,
    "start_time": "2022-11-11T13:40:58.050Z"
   },
   {
    "duration": 302,
    "start_time": "2022-11-11T13:41:03.799Z"
   },
   {
    "duration": 5,
    "start_time": "2022-11-11T13:44:21.683Z"
   },
   {
    "duration": 253,
    "start_time": "2022-11-11T13:44:21.873Z"
   },
   {
    "duration": 3,
    "start_time": "2022-11-11T13:44:22.227Z"
   },
   {
    "duration": 5,
    "start_time": "2022-11-11T13:44:22.370Z"
   },
   {
    "duration": 3,
    "start_time": "2022-11-11T13:44:22.558Z"
   },
   {
    "duration": 9,
    "start_time": "2022-11-11T13:44:22.766Z"
   },
   {
    "duration": 279,
    "start_time": "2022-11-11T13:44:23.144Z"
   },
   {
    "duration": 430,
    "start_time": "2022-11-11T13:44:34.927Z"
   },
   {
    "duration": 16,
    "start_time": "2022-11-11T13:44:35.359Z"
   },
   {
    "duration": 5,
    "start_time": "2022-11-11T13:44:42.919Z"
   },
   {
    "duration": 393,
    "start_time": "2022-11-11T13:44:43.133Z"
   },
   {
    "duration": 92,
    "start_time": "2022-11-11T13:44:43.529Z"
   },
   {
    "duration": 102,
    "start_time": "2022-11-11T13:44:43.623Z"
   },
   {
    "duration": 8,
    "start_time": "2022-11-11T13:44:43.727Z"
   },
   {
    "duration": 10,
    "start_time": "2022-11-11T13:44:43.800Z"
   },
   {
    "duration": 384,
    "start_time": "2022-11-11T13:44:44.239Z"
   },
   {
    "duration": 4,
    "start_time": "2022-11-11T13:44:44.626Z"
   },
   {
    "duration": 5,
    "start_time": "2022-11-11T13:44:45.245Z"
   },
   {
    "duration": 4,
    "start_time": "2022-11-11T13:44:45.572Z"
   },
   {
    "duration": 9,
    "start_time": "2022-11-11T13:44:46.302Z"
   },
   {
    "duration": 4,
    "start_time": "2022-11-11T13:44:46.492Z"
   },
   {
    "duration": 3,
    "start_time": "2022-11-11T13:44:46.945Z"
   },
   {
    "duration": 445,
    "start_time": "2022-11-11T13:44:47.136Z"
   },
   {
    "duration": 15,
    "start_time": "2022-11-11T13:44:47.642Z"
   },
   {
    "duration": 6,
    "start_time": "2022-11-11T13:49:08.075Z"
   },
   {
    "duration": 268,
    "start_time": "2022-11-11T13:49:08.259Z"
   },
   {
    "duration": 92,
    "start_time": "2022-11-11T13:49:08.532Z"
   },
   {
    "duration": 98,
    "start_time": "2022-11-11T13:49:08.627Z"
   },
   {
    "duration": 5,
    "start_time": "2022-11-11T13:49:08.744Z"
   },
   {
    "duration": 8,
    "start_time": "2022-11-11T13:49:08.916Z"
   },
   {
    "duration": 360,
    "start_time": "2022-11-11T13:49:09.084Z"
   },
   {
    "duration": 5,
    "start_time": "2022-11-11T13:49:12.834Z"
   },
   {
    "duration": 256,
    "start_time": "2022-11-11T13:49:13.080Z"
   },
   {
    "duration": 84,
    "start_time": "2022-11-11T13:49:13.338Z"
   },
   {
    "duration": 7,
    "start_time": "2022-11-11T13:49:13.522Z"
   },
   {
    "duration": 25,
    "start_time": "2022-11-11T13:49:13.587Z"
   },
   {
    "duration": 9,
    "start_time": "2022-11-11T13:49:13.755Z"
   },
   {
    "duration": 564,
    "start_time": "2022-11-11T13:49:13.933Z"
   },
   {
    "duration": 1556,
    "start_time": "2022-11-11T13:49:21.160Z"
   },
   {
    "duration": 3,
    "start_time": "2022-11-11T13:49:22.718Z"
   },
   {
    "duration": 391,
    "start_time": "2022-11-11T13:49:22.723Z"
   },
   {
    "duration": 7,
    "start_time": "2022-11-11T13:49:23.116Z"
   },
   {
    "duration": 33,
    "start_time": "2022-11-11T13:49:23.125Z"
   },
   {
    "duration": 213,
    "start_time": "2022-11-11T13:49:23.159Z"
   },
   {
    "duration": 123,
    "start_time": "2022-11-11T13:49:23.374Z"
   },
   {
    "duration": 6,
    "start_time": "2022-11-11T13:49:23.499Z"
   },
   {
    "duration": 3317,
    "start_time": "2022-11-11T13:49:23.523Z"
   },
   {
    "duration": 3105,
    "start_time": "2022-11-11T13:49:26.843Z"
   },
   {
    "duration": 3419,
    "start_time": "2022-11-11T13:49:29.950Z"
   },
   {
    "duration": 852,
    "start_time": "2022-11-11T13:49:33.371Z"
   },
   {
    "duration": 6,
    "start_time": "2022-11-11T13:49:34.225Z"
   },
   {
    "duration": 392,
    "start_time": "2022-11-11T13:49:34.233Z"
   },
   {
    "duration": 3,
    "start_time": "2022-11-11T13:49:34.627Z"
   },
   {
    "duration": 100,
    "start_time": "2022-11-11T13:49:34.632Z"
   },
   {
    "duration": 6,
    "start_time": "2022-11-11T13:49:34.734Z"
   },
   {
    "duration": 14,
    "start_time": "2022-11-11T13:49:34.742Z"
   },
   {
    "duration": 384,
    "start_time": "2022-11-11T13:49:34.758Z"
   },
   {
    "duration": 4,
    "start_time": "2022-11-11T13:49:35.143Z"
   },
   {
    "duration": 40,
    "start_time": "2022-11-11T13:49:35.148Z"
   },
   {
    "duration": 22,
    "start_time": "2022-11-11T13:49:35.190Z"
   },
   {
    "duration": 41,
    "start_time": "2022-11-11T13:49:35.213Z"
   },
   {
    "duration": 24,
    "start_time": "2022-11-11T13:49:35.256Z"
   },
   {
    "duration": 28,
    "start_time": "2022-11-11T13:49:35.281Z"
   },
   {
    "duration": 130,
    "start_time": "2022-11-11T13:49:35.311Z"
   },
   {
    "duration": 0,
    "start_time": "2022-11-11T13:49:35.444Z"
   },
   {
    "duration": 6,
    "start_time": "2022-11-11T13:49:41.954Z"
   },
   {
    "duration": 299,
    "start_time": "2022-11-11T13:49:42.141Z"
   },
   {
    "duration": 82,
    "start_time": "2022-11-11T13:49:42.442Z"
   },
   {
    "duration": 99,
    "start_time": "2022-11-11T13:49:42.526Z"
   },
   {
    "duration": 8,
    "start_time": "2022-11-11T13:49:42.627Z"
   },
   {
    "duration": 9,
    "start_time": "2022-11-11T13:49:42.765Z"
   },
   {
    "duration": 390,
    "start_time": "2022-11-11T13:49:42.928Z"
   },
   {
    "duration": 5,
    "start_time": "2022-11-11T13:49:47.354Z"
   },
   {
    "duration": 369,
    "start_time": "2022-11-11T13:49:47.557Z"
   },
   {
    "duration": 4,
    "start_time": "2022-11-11T13:49:47.929Z"
   },
   {
    "duration": 20,
    "start_time": "2022-11-11T13:49:48.023Z"
   },
   {
    "duration": 20,
    "start_time": "2022-11-11T13:49:48.046Z"
   },
   {
    "duration": 10,
    "start_time": "2022-11-11T13:49:48.162Z"
   },
   {
    "duration": 345,
    "start_time": "2022-11-11T13:49:48.309Z"
   },
   {
    "duration": 3,
    "start_time": "2022-11-11T13:50:06.764Z"
   },
   {
    "duration": 224,
    "start_time": "2022-11-11T13:50:07.135Z"
   },
   {
    "duration": 10,
    "start_time": "2022-11-11T13:50:10.991Z"
   },
   {
    "duration": 228,
    "start_time": "2022-11-11T13:50:18.783Z"
   },
   {
    "duration": 10,
    "start_time": "2022-11-11T13:50:19.302Z"
   },
   {
    "duration": 3,
    "start_time": "2022-11-11T13:50:55.001Z"
   },
   {
    "duration": 74,
    "start_time": "2022-11-11T13:51:25.567Z"
   },
   {
    "duration": 10,
    "start_time": "2022-11-11T13:51:36.827Z"
   },
   {
    "duration": 11,
    "start_time": "2022-11-11T13:52:08.974Z"
   },
   {
    "duration": 10,
    "start_time": "2022-11-11T13:52:45.935Z"
   },
   {
    "duration": 9,
    "start_time": "2022-11-11T13:52:50.720Z"
   },
   {
    "duration": 8,
    "start_time": "2022-11-11T13:52:55.212Z"
   },
   {
    "duration": 8,
    "start_time": "2022-11-11T13:52:59.904Z"
   },
   {
    "duration": 80,
    "start_time": "2022-11-11T13:53:01.827Z"
   },
   {
    "duration": 307,
    "start_time": "2022-11-11T13:53:46.598Z"
   },
   {
    "duration": 906,
    "start_time": "2022-11-11T13:54:09.643Z"
   },
   {
    "duration": 995,
    "start_time": "2022-11-11T13:54:36.256Z"
   },
   {
    "duration": 1030,
    "start_time": "2022-11-11T13:54:45.708Z"
   },
   {
    "duration": 873,
    "start_time": "2022-11-11T13:54:50.445Z"
   },
   {
    "duration": 1073,
    "start_time": "2022-11-11T13:55:00.329Z"
   },
   {
    "duration": 1042,
    "start_time": "2022-11-11T13:55:44.487Z"
   },
   {
    "duration": 1261,
    "start_time": "2022-11-11T13:56:33.065Z"
   },
   {
    "duration": 1112,
    "start_time": "2022-11-11T13:56:47.469Z"
   },
   {
    "duration": 1211,
    "start_time": "2022-11-11T13:56:52.078Z"
   },
   {
    "duration": 1043,
    "start_time": "2022-11-11T13:57:08.042Z"
   },
   {
    "duration": 1224,
    "start_time": "2022-11-11T13:57:36.636Z"
   },
   {
    "duration": 4,
    "start_time": "2022-11-11T14:05:09.216Z"
   },
   {
    "duration": 13,
    "start_time": "2022-11-11T14:05:19.979Z"
   },
   {
    "duration": 3,
    "start_time": "2022-11-11T14:05:22.276Z"
   },
   {
    "duration": 4,
    "start_time": "2022-11-11T14:05:22.451Z"
   },
   {
    "duration": 13,
    "start_time": "2022-11-11T14:05:22.654Z"
   },
   {
    "duration": 5,
    "start_time": "2022-11-11T14:05:28.316Z"
   },
   {
    "duration": 437,
    "start_time": "2022-11-11T14:05:28.496Z"
   },
   {
    "duration": 589,
    "start_time": "2022-11-11T14:05:36.560Z"
   },
   {
    "duration": 2269,
    "start_time": "2022-11-11T14:05:45.738Z"
   },
   {
    "duration": 1938,
    "start_time": "2022-11-11T14:05:56.289Z"
   },
   {
    "duration": 425,
    "start_time": "2022-11-11T14:11:54.768Z"
   },
   {
    "duration": 421,
    "start_time": "2022-11-11T14:12:00.247Z"
   },
   {
    "duration": 461,
    "start_time": "2022-11-11T14:12:04.221Z"
   },
   {
    "duration": 471,
    "start_time": "2022-11-11T14:12:07.749Z"
   },
   {
    "duration": 643,
    "start_time": "2022-11-11T14:12:23.536Z"
   },
   {
    "duration": 771,
    "start_time": "2022-11-11T14:12:28.403Z"
   },
   {
    "duration": 571,
    "start_time": "2022-11-11T14:12:32.276Z"
   },
   {
    "duration": 571,
    "start_time": "2022-11-11T14:12:40.453Z"
   },
   {
    "duration": 4,
    "start_time": "2022-11-11T14:13:25.411Z"
   },
   {
    "duration": 216,
    "start_time": "2022-11-11T14:13:25.613Z"
   },
   {
    "duration": 93,
    "start_time": "2022-11-11T14:13:25.831Z"
   },
   {
    "duration": 14,
    "start_time": "2022-11-11T14:13:26.023Z"
   },
   {
    "duration": 3,
    "start_time": "2022-11-11T14:13:26.113Z"
   },
   {
    "duration": 9,
    "start_time": "2022-11-11T14:13:26.268Z"
   },
   {
    "duration": 1021,
    "start_time": "2022-11-11T14:13:26.408Z"
   },
   {
    "duration": 5,
    "start_time": "2022-11-11T14:13:33.669Z"
   },
   {
    "duration": 369,
    "start_time": "2022-11-11T14:13:33.853Z"
   },
   {
    "duration": 6,
    "start_time": "2022-11-11T14:13:34.225Z"
   },
   {
    "duration": 23,
    "start_time": "2022-11-11T14:13:34.323Z"
   },
   {
    "duration": 4,
    "start_time": "2022-11-11T14:13:34.369Z"
   },
   {
    "duration": 8,
    "start_time": "2022-11-11T14:13:34.536Z"
   },
   {
    "duration": 1313,
    "start_time": "2022-11-11T14:13:34.709Z"
   },
   {
    "duration": 5,
    "start_time": "2022-11-11T14:14:14.526Z"
   },
   {
    "duration": 315,
    "start_time": "2022-11-11T14:14:14.710Z"
   },
   {
    "duration": 3,
    "start_time": "2022-11-11T14:14:15.028Z"
   },
   {
    "duration": 12,
    "start_time": "2022-11-11T14:14:15.123Z"
   },
   {
    "duration": 3,
    "start_time": "2022-11-11T14:14:15.224Z"
   },
   {
    "duration": 8,
    "start_time": "2022-11-11T14:14:15.318Z"
   },
   {
    "duration": 1066,
    "start_time": "2022-11-11T14:14:15.471Z"
   },
   {
    "duration": 3,
    "start_time": "2022-11-11T14:14:24.041Z"
   },
   {
    "duration": 3,
    "start_time": "2022-11-11T14:14:24.603Z"
   },
   {
    "duration": 6,
    "start_time": "2022-11-11T14:14:24.935Z"
   },
   {
    "duration": 9,
    "start_time": "2022-11-11T14:14:25.320Z"
   },
   {
    "duration": 4,
    "start_time": "2022-11-11T14:14:25.479Z"
   },
   {
    "duration": 3,
    "start_time": "2022-11-11T14:14:26.050Z"
   },
   {
    "duration": 4,
    "start_time": "2022-11-11T14:14:26.180Z"
   },
   {
    "duration": 579,
    "start_time": "2022-11-11T14:14:26.352Z"
   },
   {
    "duration": 8,
    "start_time": "2022-11-11T15:31:29.985Z"
   },
   {
    "duration": 17,
    "start_time": "2022-11-11T15:31:57.089Z"
   },
   {
    "duration": 5,
    "start_time": "2022-11-11T15:32:03.009Z"
   },
   {
    "duration": 14,
    "start_time": "2022-11-11T15:32:05.843Z"
   },
   {
    "duration": 1373,
    "start_time": "2022-11-11T15:56:16.386Z"
   },
   {
    "duration": 10,
    "start_time": "2022-11-11T15:56:21.139Z"
   },
   {
    "duration": 6,
    "start_time": "2022-11-11T15:56:28.133Z"
   },
   {
    "duration": 4,
    "start_time": "2022-11-11T15:57:01.397Z"
   },
   {
    "duration": 5,
    "start_time": "2022-11-11T15:57:11.705Z"
   },
   {
    "duration": 8,
    "start_time": "2022-11-11T15:57:17.347Z"
   },
   {
    "duration": 6,
    "start_time": "2022-11-11T15:57:20.242Z"
   },
   {
    "duration": 6,
    "start_time": "2022-11-11T15:57:22.927Z"
   },
   {
    "duration": 7,
    "start_time": "2022-11-11T15:57:40.543Z"
   },
   {
    "duration": 4,
    "start_time": "2022-11-11T15:57:54.204Z"
   },
   {
    "duration": 5,
    "start_time": "2022-11-11T15:58:20.700Z"
   },
   {
    "duration": 1287,
    "start_time": "2022-11-11T16:02:25.806Z"
   },
   {
    "duration": 8,
    "start_time": "2022-11-11T16:02:32.050Z"
   },
   {
    "duration": 4,
    "start_time": "2022-11-11T16:02:43.278Z"
   },
   {
    "duration": 1291,
    "start_time": "2022-11-11T16:02:43.503Z"
   },
   {
    "duration": 8,
    "start_time": "2022-11-11T16:02:44.796Z"
   },
   {
    "duration": 8,
    "start_time": "2022-11-11T16:02:52.784Z"
   },
   {
    "duration": 6,
    "start_time": "2022-11-11T16:03:42.226Z"
   },
   {
    "duration": 6,
    "start_time": "2022-11-11T16:04:27.404Z"
   },
   {
    "duration": 9,
    "start_time": "2022-11-11T16:04:30.726Z"
   },
   {
    "duration": 5,
    "start_time": "2022-11-11T16:05:35.396Z"
   },
   {
    "duration": 1303,
    "start_time": "2022-11-11T16:05:35.729Z"
   },
   {
    "duration": 6,
    "start_time": "2022-11-11T16:05:37.034Z"
   },
   {
    "duration": 4,
    "start_time": "2022-11-11T16:05:48.976Z"
   },
   {
    "duration": 9,
    "start_time": "2022-11-11T16:07:05.387Z"
   },
   {
    "duration": 4,
    "start_time": "2022-11-11T16:07:10.183Z"
   },
   {
    "duration": 9,
    "start_time": "2022-11-11T16:07:48.354Z"
   },
   {
    "duration": 7,
    "start_time": "2022-11-11T16:07:55.298Z"
   },
   {
    "duration": 4,
    "start_time": "2022-11-11T16:08:00.008Z"
   },
   {
    "duration": 4,
    "start_time": "2022-11-11T16:08:07.200Z"
   },
   {
    "duration": 5,
    "start_time": "2022-11-11T16:08:11.508Z"
   },
   {
    "duration": 6,
    "start_time": "2022-11-11T16:09:10.579Z"
   },
   {
    "duration": 5,
    "start_time": "2022-11-11T16:09:17.197Z"
   },
   {
    "duration": 6,
    "start_time": "2022-11-11T16:09:23.319Z"
   },
   {
    "duration": 9,
    "start_time": "2022-11-11T16:09:38.048Z"
   },
   {
    "duration": 11,
    "start_time": "2022-11-11T16:09:45.166Z"
   },
   {
    "duration": 432,
    "start_time": "2022-11-11T16:11:25.936Z"
   },
   {
    "duration": 453,
    "start_time": "2022-11-11T16:11:31.475Z"
   },
   {
    "duration": 438,
    "start_time": "2022-11-11T16:11:37.617Z"
   },
   {
    "duration": 426,
    "start_time": "2022-11-11T16:11:50.206Z"
   },
   {
    "duration": 470,
    "start_time": "2022-11-11T16:11:57.535Z"
   },
   {
    "duration": 480,
    "start_time": "2022-11-11T16:13:45.484Z"
   },
   {
    "duration": 470,
    "start_time": "2022-11-11T16:14:04.080Z"
   },
   {
    "duration": 409,
    "start_time": "2022-11-11T16:16:17.342Z"
   },
   {
    "duration": 433,
    "start_time": "2022-11-11T16:16:25.579Z"
   },
   {
    "duration": 5,
    "start_time": "2022-11-11T16:16:53.136Z"
   },
   {
    "duration": 440,
    "start_time": "2022-11-11T16:16:53.318Z"
   },
   {
    "duration": 1290,
    "start_time": "2022-11-11T16:17:00.519Z"
   },
   {
    "duration": 4,
    "start_time": "2022-11-11T16:17:05.812Z"
   },
   {
    "duration": 10,
    "start_time": "2022-11-11T16:17:18.885Z"
   },
   {
    "duration": 10,
    "start_time": "2022-11-11T16:17:22.500Z"
   },
   {
    "duration": 4,
    "start_time": "2022-11-11T16:19:25.302Z"
   },
   {
    "duration": 7,
    "start_time": "2022-11-11T16:19:25.308Z"
   },
   {
    "duration": 351,
    "start_time": "2022-11-11T16:19:25.317Z"
   },
   {
    "duration": 6,
    "start_time": "2022-11-11T16:19:25.669Z"
   },
   {
    "duration": 45,
    "start_time": "2022-11-11T16:19:25.678Z"
   },
   {
    "duration": 213,
    "start_time": "2022-11-11T16:19:25.724Z"
   },
   {
    "duration": 126,
    "start_time": "2022-11-11T16:19:25.938Z"
   },
   {
    "duration": 5,
    "start_time": "2022-11-11T16:19:26.066Z"
   },
   {
    "duration": 3111,
    "start_time": "2022-11-11T16:19:26.073Z"
   },
   {
    "duration": 3099,
    "start_time": "2022-11-11T16:19:29.186Z"
   },
   {
    "duration": 3299,
    "start_time": "2022-11-11T16:19:32.287Z"
   },
   {
    "duration": 842,
    "start_time": "2022-11-11T16:19:35.588Z"
   },
   {
    "duration": 7,
    "start_time": "2022-11-11T16:19:36.432Z"
   },
   {
    "duration": 285,
    "start_time": "2022-11-11T16:19:36.444Z"
   },
   {
    "duration": 91,
    "start_time": "2022-11-11T16:19:36.731Z"
   },
   {
    "duration": 99,
    "start_time": "2022-11-11T16:19:36.824Z"
   },
   {
    "duration": 6,
    "start_time": "2022-11-11T16:19:36.925Z"
   },
   {
    "duration": 16,
    "start_time": "2022-11-11T16:19:36.934Z"
   },
   {
    "duration": 1148,
    "start_time": "2022-11-11T16:19:36.952Z"
   },
   {
    "duration": 4,
    "start_time": "2022-11-11T16:19:38.102Z"
   },
   {
    "duration": 15,
    "start_time": "2022-11-11T16:19:38.108Z"
   },
   {
    "duration": 4,
    "start_time": "2022-11-11T16:19:38.124Z"
   },
   {
    "duration": 12,
    "start_time": "2022-11-11T16:19:38.130Z"
   },
   {
    "duration": 11,
    "start_time": "2022-11-11T16:19:38.144Z"
   },
   {
    "duration": 11,
    "start_time": "2022-11-11T16:19:38.157Z"
   },
   {
    "duration": 11,
    "start_time": "2022-11-11T16:19:38.170Z"
   },
   {
    "duration": 1348,
    "start_time": "2022-11-11T16:19:38.183Z"
   },
   {
    "duration": 10,
    "start_time": "2022-11-11T16:19:39.533Z"
   },
   {
    "duration": 10,
    "start_time": "2022-11-11T16:20:47.580Z"
   },
   {
    "duration": 6,
    "start_time": "2022-11-11T16:20:54.515Z"
   },
   {
    "duration": 12,
    "start_time": "2022-11-11T16:20:59.892Z"
   },
   {
    "duration": 1417,
    "start_time": "2022-11-11T16:21:14.906Z"
   },
   {
    "duration": 3,
    "start_time": "2022-11-11T16:21:16.324Z"
   },
   {
    "duration": 363,
    "start_time": "2022-11-11T16:21:16.328Z"
   },
   {
    "duration": 3,
    "start_time": "2022-11-11T16:21:16.693Z"
   },
   {
    "duration": 34,
    "start_time": "2022-11-11T16:21:16.698Z"
   },
   {
    "duration": 176,
    "start_time": "2022-11-11T16:21:16.733Z"
   },
   {
    "duration": 129,
    "start_time": "2022-11-11T16:21:16.910Z"
   },
   {
    "duration": 6,
    "start_time": "2022-11-11T16:21:17.040Z"
   },
   {
    "duration": 3148,
    "start_time": "2022-11-11T16:21:17.047Z"
   },
   {
    "duration": 3269,
    "start_time": "2022-11-11T16:21:20.198Z"
   },
   {
    "duration": 3124,
    "start_time": "2022-11-11T16:21:23.468Z"
   },
   {
    "duration": 804,
    "start_time": "2022-11-11T16:21:26.593Z"
   },
   {
    "duration": 4,
    "start_time": "2022-11-11T16:21:27.399Z"
   },
   {
    "duration": 320,
    "start_time": "2022-11-11T16:21:27.404Z"
   },
   {
    "duration": 3,
    "start_time": "2022-11-11T16:21:27.726Z"
   },
   {
    "duration": 97,
    "start_time": "2022-11-11T16:21:27.731Z"
   },
   {
    "duration": 14,
    "start_time": "2022-11-11T16:21:27.831Z"
   },
   {
    "duration": 34,
    "start_time": "2022-11-11T16:21:27.848Z"
   },
   {
    "duration": 1247,
    "start_time": "2022-11-11T16:21:27.884Z"
   },
   {
    "duration": 3,
    "start_time": "2022-11-11T16:21:29.132Z"
   },
   {
    "duration": 8,
    "start_time": "2022-11-11T16:21:29.137Z"
   },
   {
    "duration": 9,
    "start_time": "2022-11-11T16:21:29.146Z"
   },
   {
    "duration": 12,
    "start_time": "2022-11-11T16:21:29.157Z"
   },
   {
    "duration": 5,
    "start_time": "2022-11-11T16:21:29.170Z"
   },
   {
    "duration": 7,
    "start_time": "2022-11-11T16:21:29.177Z"
   },
   {
    "duration": 6,
    "start_time": "2022-11-11T16:21:29.185Z"
   },
   {
    "duration": 1305,
    "start_time": "2022-11-11T16:21:29.192Z"
   },
   {
    "duration": 9,
    "start_time": "2022-11-11T16:21:30.501Z"
   },
   {
    "duration": 24,
    "start_time": "2022-11-11T16:21:30.522Z"
   },
   {
    "duration": 25,
    "start_time": "2022-11-11T16:21:30.548Z"
   },
   {
    "duration": 1438,
    "start_time": "2022-11-11T16:21:37.255Z"
   },
   {
    "duration": 3,
    "start_time": "2022-11-11T16:21:38.695Z"
   },
   {
    "duration": 364,
    "start_time": "2022-11-11T16:21:38.700Z"
   },
   {
    "duration": 4,
    "start_time": "2022-11-11T16:21:39.066Z"
   },
   {
    "duration": 34,
    "start_time": "2022-11-11T16:21:39.072Z"
   },
   {
    "duration": 184,
    "start_time": "2022-11-11T16:21:39.123Z"
   },
   {
    "duration": 116,
    "start_time": "2022-11-11T16:21:39.322Z"
   },
   {
    "duration": 6,
    "start_time": "2022-11-11T16:21:39.440Z"
   },
   {
    "duration": 3045,
    "start_time": "2022-11-11T16:21:39.447Z"
   },
   {
    "duration": 2937,
    "start_time": "2022-11-11T16:21:42.493Z"
   },
   {
    "duration": 2906,
    "start_time": "2022-11-11T16:21:45.432Z"
   },
   {
    "duration": 792,
    "start_time": "2022-11-11T16:21:48.340Z"
   },
   {
    "duration": 5,
    "start_time": "2022-11-11T16:21:49.135Z"
   },
   {
    "duration": 287,
    "start_time": "2022-11-11T16:21:49.143Z"
   },
   {
    "duration": 3,
    "start_time": "2022-11-11T16:21:49.432Z"
   },
   {
    "duration": 92,
    "start_time": "2022-11-11T16:21:49.437Z"
   },
   {
    "duration": 91,
    "start_time": "2022-11-11T16:21:49.531Z"
   },
   {
    "duration": 10,
    "start_time": "2022-11-11T16:21:49.624Z"
   },
   {
    "duration": 1192,
    "start_time": "2022-11-11T16:21:49.636Z"
   },
   {
    "duration": 3,
    "start_time": "2022-11-11T16:21:50.829Z"
   },
   {
    "duration": 9,
    "start_time": "2022-11-11T16:21:50.834Z"
   },
   {
    "duration": 7,
    "start_time": "2022-11-11T16:21:50.845Z"
   },
   {
    "duration": 9,
    "start_time": "2022-11-11T16:21:50.854Z"
   },
   {
    "duration": 8,
    "start_time": "2022-11-11T16:21:50.865Z"
   },
   {
    "duration": 12,
    "start_time": "2022-11-11T16:21:50.874Z"
   },
   {
    "duration": 7,
    "start_time": "2022-11-11T16:21:50.888Z"
   },
   {
    "duration": 1269,
    "start_time": "2022-11-11T16:21:50.897Z"
   },
   {
    "duration": 9,
    "start_time": "2022-11-11T16:21:52.168Z"
   },
   {
    "duration": 8,
    "start_time": "2022-11-11T16:21:52.179Z"
   },
   {
    "duration": 14,
    "start_time": "2022-11-11T16:21:52.188Z"
   },
   {
    "duration": 370,
    "start_time": "2022-11-11T16:23:58.516Z"
   },
   {
    "duration": 474,
    "start_time": "2022-11-11T16:24:06.648Z"
   },
   {
    "duration": 172,
    "start_time": "2022-11-11T16:25:11.701Z"
   },
   {
    "duration": 182,
    "start_time": "2022-11-11T16:25:23.745Z"
   },
   {
    "duration": 418,
    "start_time": "2022-11-11T16:26:12.365Z"
   },
   {
    "duration": 260,
    "start_time": "2022-11-11T16:26:16.235Z"
   },
   {
    "duration": 260,
    "start_time": "2022-11-11T16:26:28.932Z"
   },
   {
    "duration": 248,
    "start_time": "2022-11-11T16:26:42.338Z"
   },
   {
    "duration": 311,
    "start_time": "2022-11-11T16:26:48.989Z"
   },
   {
    "duration": 348,
    "start_time": "2022-11-11T16:28:25.665Z"
   },
   {
    "duration": 498,
    "start_time": "2022-11-11T16:28:43.660Z"
   },
   {
    "duration": 620,
    "start_time": "2022-11-11T16:28:57.254Z"
   },
   {
    "duration": 493,
    "start_time": "2022-11-11T16:29:08.407Z"
   },
   {
    "duration": 492,
    "start_time": "2022-11-11T16:29:14.858Z"
   },
   {
    "duration": 490,
    "start_time": "2022-11-11T16:29:24.480Z"
   },
   {
    "duration": 658,
    "start_time": "2022-11-11T16:29:31.322Z"
   },
   {
    "duration": 485,
    "start_time": "2022-11-11T16:29:36.413Z"
   },
   {
    "duration": 361,
    "start_time": "2022-11-11T16:29:49.612Z"
   },
   {
    "duration": 502,
    "start_time": "2022-11-11T16:30:03.468Z"
   },
   {
    "duration": 638,
    "start_time": "2022-11-11T16:30:07.068Z"
   },
   {
    "duration": 484,
    "start_time": "2022-11-11T16:30:16.276Z"
   },
   {
    "duration": 349,
    "start_time": "2022-11-11T16:30:25.457Z"
   },
   {
    "duration": 490,
    "start_time": "2022-11-11T16:30:28.066Z"
   },
   {
    "duration": 970,
    "start_time": "2022-11-11T16:30:49.214Z"
   },
   {
    "duration": 791,
    "start_time": "2022-11-11T16:31:30.991Z"
   },
   {
    "duration": 1298,
    "start_time": "2022-11-11T16:31:50.233Z"
   },
   {
    "duration": 827,
    "start_time": "2022-11-11T16:31:54.043Z"
   },
   {
    "duration": 919,
    "start_time": "2022-11-11T16:31:57.986Z"
   },
   {
    "duration": 970,
    "start_time": "2022-11-11T16:32:01.272Z"
   },
   {
    "duration": 993,
    "start_time": "2022-11-11T16:32:04.872Z"
   },
   {
    "duration": 833,
    "start_time": "2022-11-11T16:32:33.752Z"
   },
   {
    "duration": 14,
    "start_time": "2022-11-11T16:33:06.737Z"
   },
   {
    "duration": 10,
    "start_time": "2022-11-11T16:33:12.238Z"
   },
   {
    "duration": 445,
    "start_time": "2022-11-11T16:35:58.507Z"
   },
   {
    "duration": 794,
    "start_time": "2022-11-11T16:36:09.099Z"
   },
   {
    "duration": 1019,
    "start_time": "2022-11-11T16:36:15.339Z"
   },
   {
    "duration": 865,
    "start_time": "2022-11-11T16:36:23.016Z"
   },
   {
    "duration": 831,
    "start_time": "2022-11-11T16:36:29.342Z"
   },
   {
    "duration": 1006,
    "start_time": "2022-11-11T16:36:36.177Z"
   },
   {
    "duration": 828,
    "start_time": "2022-11-11T16:36:42.751Z"
   },
   {
    "duration": 839,
    "start_time": "2022-11-11T16:36:50.557Z"
   },
   {
    "duration": 889,
    "start_time": "2022-11-11T16:36:55.582Z"
   },
   {
    "duration": 961,
    "start_time": "2022-11-11T16:37:05.345Z"
   },
   {
    "duration": 829,
    "start_time": "2022-11-11T16:37:09.268Z"
   },
   {
    "duration": 788,
    "start_time": "2022-11-11T16:37:14.404Z"
   },
   {
    "duration": 863,
    "start_time": "2022-11-11T16:37:18.640Z"
   },
   {
    "duration": 968,
    "start_time": "2022-11-11T16:37:28.142Z"
   },
   {
    "duration": 843,
    "start_time": "2022-11-11T16:37:38.660Z"
   },
   {
    "duration": 841,
    "start_time": "2022-11-11T16:37:52.156Z"
   },
   {
    "duration": 73,
    "start_time": "2022-11-11T16:39:09.136Z"
   },
   {
    "duration": 952,
    "start_time": "2022-11-11T16:39:11.633Z"
   },
   {
    "duration": 482,
    "start_time": "2022-11-11T16:39:17.354Z"
   },
   {
    "duration": 512,
    "start_time": "2022-11-11T16:39:24.031Z"
   },
   {
    "duration": 861,
    "start_time": "2022-11-11T16:39:32.014Z"
   },
   {
    "duration": 896,
    "start_time": "2022-11-11T16:39:36.688Z"
   },
   {
    "duration": 990,
    "start_time": "2022-11-11T16:40:11.715Z"
   },
   {
    "duration": 851,
    "start_time": "2022-11-11T16:40:24.247Z"
   },
   {
    "duration": 870,
    "start_time": "2022-11-11T16:40:29.323Z"
   },
   {
    "duration": 6,
    "start_time": "2022-11-11T16:40:37.702Z"
   },
   {
    "duration": 3071,
    "start_time": "2022-11-11T16:40:40.295Z"
   },
   {
    "duration": 7,
    "start_time": "2022-11-11T16:40:46.720Z"
   },
   {
    "duration": 2906,
    "start_time": "2022-11-11T16:40:46.886Z"
   },
   {
    "duration": 1406,
    "start_time": "2022-11-11T17:38:00.100Z"
   },
   {
    "duration": 2,
    "start_time": "2022-11-11T17:38:01.508Z"
   },
   {
    "duration": 415,
    "start_time": "2022-11-11T17:38:01.512Z"
   },
   {
    "duration": 3,
    "start_time": "2022-11-11T17:38:01.929Z"
   },
   {
    "duration": 41,
    "start_time": "2022-11-11T17:38:01.934Z"
   },
   {
    "duration": 196,
    "start_time": "2022-11-11T17:38:01.977Z"
   },
   {
    "duration": 114,
    "start_time": "2022-11-11T17:38:02.175Z"
   },
   {
    "duration": 6,
    "start_time": "2022-11-11T17:38:02.291Z"
   },
   {
    "duration": 2986,
    "start_time": "2022-11-11T17:38:02.298Z"
   },
   {
    "duration": 2906,
    "start_time": "2022-11-11T17:38:05.286Z"
   },
   {
    "duration": 3036,
    "start_time": "2022-11-11T17:38:08.194Z"
   },
   {
    "duration": 784,
    "start_time": "2022-11-11T17:38:11.232Z"
   },
   {
    "duration": 4,
    "start_time": "2022-11-11T17:38:12.021Z"
   },
   {
    "duration": 303,
    "start_time": "2022-11-11T17:38:12.028Z"
   },
   {
    "duration": 6,
    "start_time": "2022-11-11T17:38:12.422Z"
   },
   {
    "duration": 95,
    "start_time": "2022-11-11T17:38:12.430Z"
   },
   {
    "duration": 6,
    "start_time": "2022-11-11T17:38:12.527Z"
   },
   {
    "duration": 10,
    "start_time": "2022-11-11T17:38:12.534Z"
   },
   {
    "duration": 1190,
    "start_time": "2022-11-11T17:38:12.546Z"
   },
   {
    "duration": 2,
    "start_time": "2022-11-11T17:38:13.738Z"
   },
   {
    "duration": 7,
    "start_time": "2022-11-11T17:38:13.742Z"
   },
   {
    "duration": 10,
    "start_time": "2022-11-11T17:38:13.751Z"
   },
   {
    "duration": 10,
    "start_time": "2022-11-11T17:38:13.762Z"
   },
   {
    "duration": 7,
    "start_time": "2022-11-11T17:38:13.773Z"
   },
   {
    "duration": 19,
    "start_time": "2022-11-11T17:38:13.781Z"
   },
   {
    "duration": 21,
    "start_time": "2022-11-11T17:38:13.801Z"
   },
   {
    "duration": 1338,
    "start_time": "2022-11-11T17:38:13.823Z"
   },
   {
    "duration": 869,
    "start_time": "2022-11-11T17:38:15.162Z"
   },
   {
    "duration": 12,
    "start_time": "2022-11-11T17:38:16.033Z"
   },
   {
    "duration": 919,
    "start_time": "2022-11-11T17:39:55.205Z"
   },
   {
    "duration": 3128,
    "start_time": "2022-11-11T17:41:11.042Z"
   },
   {
    "duration": 3145,
    "start_time": "2022-11-11T17:41:24.211Z"
   },
   {
    "duration": 2950,
    "start_time": "2022-11-11T17:41:32.682Z"
   },
   {
    "duration": 107,
    "start_time": "2022-11-11T17:42:02.809Z"
   },
   {
    "duration": 8,
    "start_time": "2022-11-11T17:42:07.741Z"
   },
   {
    "duration": 9,
    "start_time": "2022-11-11T17:42:10.902Z"
   },
   {
    "duration": 9,
    "start_time": "2022-11-11T17:42:16.343Z"
   },
   {
    "duration": 1956,
    "start_time": "2022-11-11T18:09:58.156Z"
   },
   {
    "duration": 1021,
    "start_time": "2022-11-11T18:10:07.476Z"
   },
   {
    "duration": 821,
    "start_time": "2022-11-11T18:10:17.749Z"
   },
   {
    "duration": 935,
    "start_time": "2022-11-11T18:10:29.503Z"
   },
   {
    "duration": 9,
    "start_time": "2022-11-11T18:22:46.013Z"
   },
   {
    "duration": 3120,
    "start_time": "2022-11-11T18:22:46.447Z"
   },
   {
    "duration": 3360,
    "start_time": "2022-11-11T18:22:53.416Z"
   },
   {
    "duration": 2962,
    "start_time": "2022-11-11T18:22:56.779Z"
   },
   {
    "duration": 12,
    "start_time": "2022-11-11T18:38:23.216Z"
   },
   {
    "duration": 1421,
    "start_time": "2022-11-11T18:54:56.367Z"
   },
   {
    "duration": 3,
    "start_time": "2022-11-11T18:54:57.790Z"
   },
   {
    "duration": 404,
    "start_time": "2022-11-11T18:54:57.795Z"
   },
   {
    "duration": 4,
    "start_time": "2022-11-11T18:54:58.201Z"
   },
   {
    "duration": 35,
    "start_time": "2022-11-11T18:54:58.207Z"
   },
   {
    "duration": 197,
    "start_time": "2022-11-11T18:54:58.243Z"
   },
   {
    "duration": 6,
    "start_time": "2022-11-11T18:54:58.442Z"
   },
   {
    "duration": 3103,
    "start_time": "2022-11-11T18:54:58.449Z"
   },
   {
    "duration": 2946,
    "start_time": "2022-11-11T18:55:01.554Z"
   },
   {
    "duration": 3043,
    "start_time": "2022-11-11T18:55:04.502Z"
   },
   {
    "duration": 768,
    "start_time": "2022-11-11T18:55:07.547Z"
   },
   {
    "duration": 7,
    "start_time": "2022-11-11T18:55:08.317Z"
   },
   {
    "duration": 303,
    "start_time": "2022-11-11T18:55:08.326Z"
   },
   {
    "duration": 94,
    "start_time": "2022-11-11T18:55:08.632Z"
   },
   {
    "duration": 96,
    "start_time": "2022-11-11T18:55:08.728Z"
   },
   {
    "duration": 7,
    "start_time": "2022-11-11T18:55:08.826Z"
   },
   {
    "duration": 14,
    "start_time": "2022-11-11T18:55:08.835Z"
   },
   {
    "duration": 931,
    "start_time": "2022-11-11T18:55:08.851Z"
   },
   {
    "duration": 10,
    "start_time": "2022-11-11T18:55:09.784Z"
   },
   {
    "duration": 5,
    "start_time": "2022-11-11T18:55:09.796Z"
   },
   {
    "duration": 22,
    "start_time": "2022-11-11T18:55:09.803Z"
   },
   {
    "duration": 7,
    "start_time": "2022-11-11T18:55:09.827Z"
   },
   {
    "duration": 12,
    "start_time": "2022-11-11T18:55:09.835Z"
   },
   {
    "duration": 7,
    "start_time": "2022-11-11T18:55:09.849Z"
   },
   {
    "duration": 1288,
    "start_time": "2022-11-11T18:55:09.857Z"
   },
   {
    "duration": 858,
    "start_time": "2022-11-11T18:55:11.147Z"
   },
   {
    "duration": 20,
    "start_time": "2022-11-11T18:55:12.007Z"
   },
   {
    "duration": 16,
    "start_time": "2022-11-11T19:48:31.604Z"
   },
   {
    "duration": 11,
    "start_time": "2022-11-11T19:50:53.513Z"
   },
   {
    "duration": 13,
    "start_time": "2022-11-12T12:02:47.234Z"
   },
   {
    "duration": 1508,
    "start_time": "2022-11-12T12:02:53.792Z"
   },
   {
    "duration": 3,
    "start_time": "2022-11-12T12:02:55.303Z"
   },
   {
    "duration": 1641,
    "start_time": "2022-11-12T12:02:55.307Z"
   },
   {
    "duration": 4,
    "start_time": "2022-11-12T12:02:56.950Z"
   },
   {
    "duration": 44,
    "start_time": "2022-11-12T12:02:56.956Z"
   },
   {
    "duration": 203,
    "start_time": "2022-11-12T12:02:57.002Z"
   },
   {
    "duration": 6,
    "start_time": "2022-11-12T12:02:57.206Z"
   },
   {
    "duration": 2875,
    "start_time": "2022-11-12T12:02:57.214Z"
   },
   {
    "duration": 2877,
    "start_time": "2022-11-12T12:03:00.091Z"
   },
   {
    "duration": 2945,
    "start_time": "2022-11-12T12:03:02.970Z"
   },
   {
    "duration": 704,
    "start_time": "2022-11-12T12:03:05.917Z"
   },
   {
    "duration": 4,
    "start_time": "2022-11-12T12:03:06.622Z"
   },
   {
    "duration": 258,
    "start_time": "2022-11-12T12:03:06.628Z"
   },
   {
    "duration": 93,
    "start_time": "2022-11-12T12:03:06.891Z"
   },
   {
    "duration": 96,
    "start_time": "2022-11-12T12:03:06.989Z"
   },
   {
    "duration": 7,
    "start_time": "2022-11-12T12:03:07.087Z"
   },
   {
    "duration": 16,
    "start_time": "2022-11-12T12:03:07.096Z"
   },
   {
    "duration": 808,
    "start_time": "2022-11-12T12:03:07.113Z"
   },
   {
    "duration": 7,
    "start_time": "2022-11-12T12:03:07.923Z"
   },
   {
    "duration": 6,
    "start_time": "2022-11-12T12:03:07.931Z"
   },
   {
    "duration": 6,
    "start_time": "2022-11-12T12:03:07.938Z"
   },
   {
    "duration": 6,
    "start_time": "2022-11-12T12:03:07.945Z"
   },
   {
    "duration": 7,
    "start_time": "2022-11-12T12:03:07.952Z"
   },
   {
    "duration": 21,
    "start_time": "2022-11-12T12:03:07.961Z"
   },
   {
    "duration": 502,
    "start_time": "2022-11-12T12:03:07.983Z"
   },
   {
    "duration": 0,
    "start_time": "2022-11-12T12:03:08.486Z"
   },
   {
    "duration": 0,
    "start_time": "2022-11-12T12:03:08.487Z"
   },
   {
    "duration": 0,
    "start_time": "2022-11-12T12:03:08.489Z"
   },
   {
    "duration": 6,
    "start_time": "2022-11-12T12:03:36.760Z"
   },
   {
    "duration": 1175,
    "start_time": "2022-11-12T12:03:38.825Z"
   },
   {
    "duration": 864,
    "start_time": "2022-11-12T12:03:41.401Z"
   },
   {
    "duration": 11,
    "start_time": "2022-11-12T12:03:43.224Z"
   },
   {
    "duration": 1352,
    "start_time": "2022-11-12T12:04:09.572Z"
   },
   {
    "duration": 3,
    "start_time": "2022-11-12T12:04:10.925Z"
   },
   {
    "duration": 396,
    "start_time": "2022-11-12T12:04:10.929Z"
   },
   {
    "duration": 4,
    "start_time": "2022-11-12T12:04:11.327Z"
   },
   {
    "duration": 35,
    "start_time": "2022-11-12T12:04:11.332Z"
   },
   {
    "duration": 162,
    "start_time": "2022-11-12T12:04:11.368Z"
   },
   {
    "duration": 5,
    "start_time": "2022-11-12T12:04:11.531Z"
   },
   {
    "duration": 2824,
    "start_time": "2022-11-12T12:04:11.537Z"
   },
   {
    "duration": 2771,
    "start_time": "2022-11-12T12:04:14.363Z"
   },
   {
    "duration": 3130,
    "start_time": "2022-11-12T12:04:17.137Z"
   },
   {
    "duration": 773,
    "start_time": "2022-11-12T12:04:20.269Z"
   },
   {
    "duration": 4,
    "start_time": "2022-11-12T12:04:21.044Z"
   },
   {
    "duration": 349,
    "start_time": "2022-11-12T12:04:21.049Z"
   },
   {
    "duration": 3,
    "start_time": "2022-11-12T12:04:21.481Z"
   },
   {
    "duration": 133,
    "start_time": "2022-11-12T12:04:21.486Z"
   },
   {
    "duration": 27,
    "start_time": "2022-11-12T12:04:21.621Z"
   },
   {
    "duration": 16,
    "start_time": "2022-11-12T12:04:21.650Z"
   },
   {
    "duration": 937,
    "start_time": "2022-11-12T12:04:21.668Z"
   },
   {
    "duration": 9,
    "start_time": "2022-11-12T12:04:22.607Z"
   },
   {
    "duration": 28,
    "start_time": "2022-11-12T12:04:22.618Z"
   },
   {
    "duration": 49,
    "start_time": "2022-11-12T12:04:22.648Z"
   },
   {
    "duration": 17,
    "start_time": "2022-11-12T12:04:22.699Z"
   },
   {
    "duration": 24,
    "start_time": "2022-11-12T12:04:22.718Z"
   },
   {
    "duration": 26,
    "start_time": "2022-11-12T12:04:22.743Z"
   },
   {
    "duration": 1229,
    "start_time": "2022-11-12T12:04:22.770Z"
   },
   {
    "duration": 854,
    "start_time": "2022-11-12T12:04:24.000Z"
   },
   {
    "duration": 11,
    "start_time": "2022-11-12T12:04:24.856Z"
   },
   {
    "duration": 25,
    "start_time": "2022-11-12T12:04:24.881Z"
   },
   {
    "duration": 6,
    "start_time": "2022-11-12T13:44:23.381Z"
   },
   {
    "duration": 109,
    "start_time": "2022-11-12T13:44:34.055Z"
   },
   {
    "duration": 10,
    "start_time": "2022-11-12T13:44:50.330Z"
   },
   {
    "duration": 5,
    "start_time": "2022-11-12T13:44:59.370Z"
   },
   {
    "duration": 7,
    "start_time": "2022-11-12T13:44:59.978Z"
   },
   {
    "duration": 57,
    "start_time": "2022-11-12T13:45:23.342Z"
   },
   {
    "duration": 7,
    "start_time": "2022-11-12T13:45:27.258Z"
   },
   {
    "duration": 12,
    "start_time": "2022-11-12T13:45:30.588Z"
   },
   {
    "duration": 166,
    "start_time": "2022-11-12T13:45:40.516Z"
   },
   {
    "duration": 148,
    "start_time": "2022-11-12T13:45:56.180Z"
   },
   {
    "duration": 6,
    "start_time": "2022-11-12T13:47:48.779Z"
   },
   {
    "duration": 17,
    "start_time": "2022-11-12T13:47:59.086Z"
   },
   {
    "duration": 6,
    "start_time": "2022-11-12T13:48:06.729Z"
   },
   {
    "duration": 139,
    "start_time": "2022-11-12T13:48:06.834Z"
   },
   {
    "duration": 18,
    "start_time": "2022-11-12T13:48:07.066Z"
   },
   {
    "duration": 9,
    "start_time": "2022-11-12T13:48:26.286Z"
   },
   {
    "duration": 183,
    "start_time": "2022-11-12T13:48:26.521Z"
   },
   {
    "duration": 709,
    "start_time": "2022-11-12T13:48:28.226Z"
   },
   {
    "duration": 681,
    "start_time": "2022-11-12T13:48:34.227Z"
   },
   {
    "duration": 673,
    "start_time": "2022-11-12T13:48:38.057Z"
   },
   {
    "duration": 8,
    "start_time": "2022-11-12T13:48:56.539Z"
   },
   {
    "duration": 2221,
    "start_time": "2022-11-12T13:49:35.088Z"
   },
   {
    "duration": 980,
    "start_time": "2022-11-12T13:49:38.188Z"
   },
   {
    "duration": 13,
    "start_time": "2022-11-12T13:49:45.818Z"
   },
   {
    "duration": 1784,
    "start_time": "2022-11-12T13:50:24.865Z"
   },
   {
    "duration": 4,
    "start_time": "2022-11-12T13:50:26.652Z"
   },
   {
    "duration": 403,
    "start_time": "2022-11-12T13:50:26.658Z"
   },
   {
    "duration": 4,
    "start_time": "2022-11-12T13:50:27.064Z"
   },
   {
    "duration": 55,
    "start_time": "2022-11-12T13:50:27.080Z"
   },
   {
    "duration": 189,
    "start_time": "2022-11-12T13:50:27.137Z"
   },
   {
    "duration": 6,
    "start_time": "2022-11-12T13:50:27.328Z"
   },
   {
    "duration": 3116,
    "start_time": "2022-11-12T13:50:27.337Z"
   },
   {
    "duration": 2976,
    "start_time": "2022-11-12T13:50:30.455Z"
   },
   {
    "duration": 2929,
    "start_time": "2022-11-12T13:50:33.434Z"
   },
   {
    "duration": 808,
    "start_time": "2022-11-12T13:50:36.365Z"
   },
   {
    "duration": 5,
    "start_time": "2022-11-12T13:50:37.175Z"
   },
   {
    "duration": 405,
    "start_time": "2022-11-12T13:50:37.181Z"
   },
   {
    "duration": 4,
    "start_time": "2022-11-12T13:50:37.588Z"
   },
   {
    "duration": 110,
    "start_time": "2022-11-12T13:50:37.681Z"
   },
   {
    "duration": 38,
    "start_time": "2022-11-12T13:50:37.792Z"
   },
   {
    "duration": 36,
    "start_time": "2022-11-12T13:50:37.832Z"
   },
   {
    "duration": 954,
    "start_time": "2022-11-12T13:50:37.871Z"
   },
   {
    "duration": 8,
    "start_time": "2022-11-12T13:50:38.827Z"
   },
   {
    "duration": 14,
    "start_time": "2022-11-12T13:50:38.838Z"
   },
   {
    "duration": 36,
    "start_time": "2022-11-12T13:50:38.853Z"
   },
   {
    "duration": 27,
    "start_time": "2022-11-12T13:50:38.891Z"
   },
   {
    "duration": 23,
    "start_time": "2022-11-12T13:50:38.920Z"
   },
   {
    "duration": 25,
    "start_time": "2022-11-12T13:50:38.945Z"
   },
   {
    "duration": 2038,
    "start_time": "2022-11-12T13:50:38.972Z"
   },
   {
    "duration": 848,
    "start_time": "2022-11-12T13:50:41.012Z"
   },
   {
    "duration": 19,
    "start_time": "2022-11-12T13:50:41.862Z"
   },
   {
    "duration": 37,
    "start_time": "2022-11-12T13:50:41.884Z"
   },
   {
    "duration": 1363,
    "start_time": "2022-11-12T13:51:34.615Z"
   },
   {
    "duration": 3,
    "start_time": "2022-11-12T13:51:35.980Z"
   },
   {
    "duration": 395,
    "start_time": "2022-11-12T13:51:35.985Z"
   },
   {
    "duration": 4,
    "start_time": "2022-11-12T13:51:36.382Z"
   },
   {
    "duration": 41,
    "start_time": "2022-11-12T13:51:36.388Z"
   },
   {
    "duration": 191,
    "start_time": "2022-11-12T13:51:36.430Z"
   },
   {
    "duration": 6,
    "start_time": "2022-11-12T13:51:36.623Z"
   },
   {
    "duration": 2962,
    "start_time": "2022-11-12T13:51:36.631Z"
   },
   {
    "duration": 2973,
    "start_time": "2022-11-12T13:51:39.595Z"
   },
   {
    "duration": 3024,
    "start_time": "2022-11-12T13:51:42.573Z"
   },
   {
    "duration": 799,
    "start_time": "2022-11-12T13:51:45.599Z"
   },
   {
    "duration": 4,
    "start_time": "2022-11-12T13:51:46.400Z"
   },
   {
    "duration": 374,
    "start_time": "2022-11-12T13:51:46.406Z"
   },
   {
    "duration": 4,
    "start_time": "2022-11-12T13:51:46.782Z"
   },
   {
    "duration": 94,
    "start_time": "2022-11-12T13:51:46.788Z"
   },
   {
    "duration": 17,
    "start_time": "2022-11-12T13:51:46.884Z"
   },
   {
    "duration": 19,
    "start_time": "2022-11-12T13:51:46.902Z"
   },
   {
    "duration": 865,
    "start_time": "2022-11-12T13:51:46.923Z"
   },
   {
    "duration": 8,
    "start_time": "2022-11-12T13:51:47.790Z"
   },
   {
    "duration": 17,
    "start_time": "2022-11-12T13:51:47.799Z"
   },
   {
    "duration": 11,
    "start_time": "2022-11-12T13:51:47.818Z"
   },
   {
    "duration": 18,
    "start_time": "2022-11-12T13:51:47.831Z"
   },
   {
    "duration": 10,
    "start_time": "2022-11-12T13:51:47.850Z"
   },
   {
    "duration": 9,
    "start_time": "2022-11-12T13:51:47.862Z"
   },
   {
    "duration": 2077,
    "start_time": "2022-11-12T13:51:47.874Z"
   },
   {
    "duration": 940,
    "start_time": "2022-11-12T13:51:49.953Z"
   },
   {
    "duration": 12,
    "start_time": "2022-11-12T13:51:50.895Z"
   },
   {
    "duration": 18,
    "start_time": "2022-11-12T13:51:50.909Z"
   },
   {
    "duration": 1579,
    "start_time": "2022-11-25T13:38:09.340Z"
   },
   {
    "duration": 3,
    "start_time": "2022-11-25T13:38:10.921Z"
   },
   {
    "duration": 752,
    "start_time": "2022-11-25T13:38:10.927Z"
   },
   {
    "duration": 4,
    "start_time": "2022-11-25T13:38:11.682Z"
   },
   {
    "duration": 41,
    "start_time": "2022-11-25T13:38:11.687Z"
   },
   {
    "duration": 170,
    "start_time": "2022-11-25T13:38:11.730Z"
   },
   {
    "duration": 6,
    "start_time": "2022-11-25T13:38:11.901Z"
   },
   {
    "duration": 3012,
    "start_time": "2022-11-25T13:38:11.909Z"
   },
   {
    "duration": 2953,
    "start_time": "2022-11-25T13:38:14.922Z"
   },
   {
    "duration": 3079,
    "start_time": "2022-11-25T13:38:17.877Z"
   },
   {
    "duration": 779,
    "start_time": "2022-11-25T13:38:20.958Z"
   },
   {
    "duration": 4,
    "start_time": "2022-11-25T13:38:21.739Z"
   },
   {
    "duration": 126,
    "start_time": "2022-11-25T13:38:21.754Z"
   },
   {
    "duration": 0,
    "start_time": "2022-11-25T13:38:21.882Z"
   },
   {
    "duration": 0,
    "start_time": "2022-11-25T13:38:21.883Z"
   },
   {
    "duration": 0,
    "start_time": "2022-11-25T13:38:21.884Z"
   },
   {
    "duration": 0,
    "start_time": "2022-11-25T13:38:21.886Z"
   },
   {
    "duration": 0,
    "start_time": "2022-11-25T13:38:21.887Z"
   },
   {
    "duration": 0,
    "start_time": "2022-11-25T13:38:21.888Z"
   },
   {
    "duration": 0,
    "start_time": "2022-11-25T13:38:21.889Z"
   },
   {
    "duration": 0,
    "start_time": "2022-11-25T13:38:21.890Z"
   },
   {
    "duration": 0,
    "start_time": "2022-11-25T13:38:21.891Z"
   },
   {
    "duration": 0,
    "start_time": "2022-11-25T13:38:21.893Z"
   },
   {
    "duration": 0,
    "start_time": "2022-11-25T13:38:21.894Z"
   },
   {
    "duration": 0,
    "start_time": "2022-11-25T13:38:21.896Z"
   },
   {
    "duration": 0,
    "start_time": "2022-11-25T13:38:21.896Z"
   },
   {
    "duration": 0,
    "start_time": "2022-11-25T13:38:21.898Z"
   },
   {
    "duration": 0,
    "start_time": "2022-11-25T13:38:21.899Z"
   },
   {
    "duration": 5,
    "start_time": "2022-11-25T13:38:38.104Z"
   },
   {
    "duration": 334,
    "start_time": "2022-11-25T13:38:38.727Z"
   },
   {
    "duration": 92,
    "start_time": "2022-11-25T13:38:39.070Z"
   },
   {
    "duration": 5,
    "start_time": "2022-11-25T13:38:39.783Z"
   },
   {
    "duration": 5,
    "start_time": "2022-11-25T13:38:39.980Z"
   },
   {
    "duration": 9,
    "start_time": "2022-11-25T13:38:40.183Z"
   },
   {
    "duration": 996,
    "start_time": "2022-11-25T13:38:40.352Z"
   },
   {
    "duration": 9,
    "start_time": "2022-11-25T13:38:41.354Z"
   },
   {
    "duration": 3,
    "start_time": "2022-11-25T13:38:42.283Z"
   },
   {
    "duration": 921,
    "start_time": "2022-11-25T13:38:54.215Z"
   },
   {
    "duration": 856,
    "start_time": "2022-11-25T13:40:03.899Z"
   },
   {
    "duration": 1475,
    "start_time": "2022-11-25T13:40:14.716Z"
   },
   {
    "duration": 3,
    "start_time": "2022-11-25T13:40:16.193Z"
   },
   {
    "duration": 416,
    "start_time": "2022-11-25T13:40:16.198Z"
   },
   {
    "duration": 4,
    "start_time": "2022-11-25T13:40:16.616Z"
   },
   {
    "duration": 44,
    "start_time": "2022-11-25T13:40:16.622Z"
   },
   {
    "duration": 201,
    "start_time": "2022-11-25T13:40:16.668Z"
   },
   {
    "duration": 7,
    "start_time": "2022-11-25T13:40:16.871Z"
   },
   {
    "duration": 2961,
    "start_time": "2022-11-25T13:40:16.880Z"
   },
   {
    "duration": 2895,
    "start_time": "2022-11-25T13:40:19.843Z"
   },
   {
    "duration": 3003,
    "start_time": "2022-11-25T13:40:22.740Z"
   },
   {
    "duration": 747,
    "start_time": "2022-11-25T13:40:25.745Z"
   },
   {
    "duration": 6,
    "start_time": "2022-11-25T13:40:26.494Z"
   },
   {
    "duration": 361,
    "start_time": "2022-11-25T13:40:26.502Z"
   },
   {
    "duration": 87,
    "start_time": "2022-11-25T13:40:26.868Z"
   },
   {
    "duration": 112,
    "start_time": "2022-11-25T13:40:26.958Z"
   },
   {
    "duration": 17,
    "start_time": "2022-11-25T13:40:27.072Z"
   },
   {
    "duration": 28,
    "start_time": "2022-11-25T13:40:27.091Z"
   },
   {
    "duration": 876,
    "start_time": "2022-11-25T13:40:27.121Z"
   },
   {
    "duration": 8,
    "start_time": "2022-11-25T13:40:27.999Z"
   },
   {
    "duration": 50,
    "start_time": "2022-11-25T13:40:28.009Z"
   },
   {
    "duration": 24,
    "start_time": "2022-11-25T13:40:28.061Z"
   },
   {
    "duration": 44,
    "start_time": "2022-11-25T13:40:28.087Z"
   },
   {
    "duration": 50,
    "start_time": "2022-11-25T13:40:28.133Z"
   },
   {
    "duration": 44,
    "start_time": "2022-11-25T13:40:28.184Z"
   },
   {
    "duration": 2022,
    "start_time": "2022-11-25T13:40:28.230Z"
   },
   {
    "duration": 875,
    "start_time": "2022-11-25T13:40:30.253Z"
   },
   {
    "duration": 12,
    "start_time": "2022-11-25T13:40:31.130Z"
   },
   {
    "duration": 24,
    "start_time": "2022-11-25T13:40:31.154Z"
   }
  ],
  "kernelspec": {
   "display_name": "Python 3 (ipykernel)",
   "language": "python",
   "name": "python3"
  },
  "language_info": {
   "codemirror_mode": {
    "name": "ipython",
    "version": 3
   },
   "file_extension": ".py",
   "mimetype": "text/x-python",
   "name": "python",
   "nbconvert_exporter": "python",
   "pygments_lexer": "ipython3",
   "version": "3.9.5"
  },
  "toc": {
   "base_numbering": 1,
   "nav_menu": {},
   "number_sections": true,
   "sideBar": true,
   "skip_h1_title": true,
   "title_cell": "Table of Contents",
   "title_sidebar": "Contents",
   "toc_cell": false,
   "toc_position": {},
   "toc_section_display": true,
   "toc_window_display": false
  }
 },
 "nbformat": 4,
 "nbformat_minor": 2
}
